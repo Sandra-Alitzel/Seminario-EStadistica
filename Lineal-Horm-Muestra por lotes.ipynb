{
 "cells": [
  {
   "cell_type": "markdown",
   "metadata": {},
   "source": [
    "# Muestra por lotes"
   ]
  },
  {
   "cell_type": "markdown",
   "metadata": {},
   "source": [
    "La base de datos \"lineal_horm\" contiene la cantidad en miligramos de hormona antiinflamatoria que queda en 27 dispositivos después de un cierto número de horas de uso.\n",
    "En el cual se toman en cuenta 3 lotes diferentes: A, B y C."
   ]
  },
  {
   "cell_type": "code",
   "execution_count": 1,
   "metadata": {},
   "outputs": [],
   "source": [
    "#Librerias\n",
    "from pylab import*\n",
    "import numpy as np\n",
    "import scipy.stats \n",
    "from scipy.special import gamma\n",
    "import seaborn as sns\n",
    "from scipy.stats import beta\n",
    "from scipy.stats import spearmanr\n",
    "import pandas as pd\n",
    "from sklearn import linear_model"
   ]
  },
  {
   "cell_type": "code",
   "execution_count": 2,
   "metadata": {},
   "outputs": [],
   "source": [
    "ruta = \"/home/sandra/Videos/Clases- Seminario estadística/Tarea1/\"\n",
    "bd=\"lineal_horm.xlsx\"\n",
    "bd_horm=pd.read_excel(ruta+bd)"
   ]
  },
  {
   "cell_type": "code",
   "execution_count": 3,
   "metadata": {},
   "outputs": [],
   "source": [
    "size =9\n",
    "lotes = [bd_horm.loc[i:i+size-1,:] for i in range(0, len(bd_horm),size)]"
   ]
  },
  {
   "cell_type": "markdown",
   "metadata": {},
   "source": [
    "### Lotes"
   ]
  },
  {
   "cell_type": "markdown",
   "metadata": {},
   "source": [
    "#### Lote A"
   ]
  },
  {
   "cell_type": "code",
   "execution_count": 4,
   "metadata": {},
   "outputs": [
    {
     "data": {
      "text/html": [
       "<div>\n",
       "<style scoped>\n",
       "    .dataframe tbody tr th:only-of-type {\n",
       "        vertical-align: middle;\n",
       "    }\n",
       "\n",
       "    .dataframe tbody tr th {\n",
       "        vertical-align: top;\n",
       "    }\n",
       "\n",
       "    .dataframe thead th {\n",
       "        text-align: right;\n",
       "    }\n",
       "</style>\n",
       "<table border=\"1\" class=\"dataframe\">\n",
       "  <thead>\n",
       "    <tr style=\"text-align: right;\">\n",
       "      <th></th>\n",
       "      <th>lote</th>\n",
       "      <th>horas</th>\n",
       "      <th>monto</th>\n",
       "    </tr>\n",
       "  </thead>\n",
       "  <tbody>\n",
       "    <tr>\n",
       "      <th>0</th>\n",
       "      <td>A</td>\n",
       "      <td>99</td>\n",
       "      <td>25.8</td>\n",
       "    </tr>\n",
       "    <tr>\n",
       "      <th>1</th>\n",
       "      <td>A</td>\n",
       "      <td>152</td>\n",
       "      <td>20.5</td>\n",
       "    </tr>\n",
       "    <tr>\n",
       "      <th>2</th>\n",
       "      <td>A</td>\n",
       "      <td>293</td>\n",
       "      <td>14.3</td>\n",
       "    </tr>\n",
       "    <tr>\n",
       "      <th>3</th>\n",
       "      <td>A</td>\n",
       "      <td>155</td>\n",
       "      <td>23.2</td>\n",
       "    </tr>\n",
       "    <tr>\n",
       "      <th>4</th>\n",
       "      <td>A</td>\n",
       "      <td>196</td>\n",
       "      <td>20.6</td>\n",
       "    </tr>\n",
       "    <tr>\n",
       "      <th>5</th>\n",
       "      <td>A</td>\n",
       "      <td>53</td>\n",
       "      <td>31.1</td>\n",
       "    </tr>\n",
       "    <tr>\n",
       "      <th>6</th>\n",
       "      <td>A</td>\n",
       "      <td>184</td>\n",
       "      <td>20.9</td>\n",
       "    </tr>\n",
       "    <tr>\n",
       "      <th>7</th>\n",
       "      <td>A</td>\n",
       "      <td>171</td>\n",
       "      <td>20.9</td>\n",
       "    </tr>\n",
       "    <tr>\n",
       "      <th>8</th>\n",
       "      <td>A</td>\n",
       "      <td>52</td>\n",
       "      <td>30.4</td>\n",
       "    </tr>\n",
       "  </tbody>\n",
       "</table>\n",
       "</div>"
      ],
      "text/plain": [
       "  lote  horas  monto\n",
       "0    A     99   25.8\n",
       "1    A    152   20.5\n",
       "2    A    293   14.3\n",
       "3    A    155   23.2\n",
       "4    A    196   20.6\n",
       "5    A     53   31.1\n",
       "6    A    184   20.9\n",
       "7    A    171   20.9\n",
       "8    A     52   30.4"
      ]
     },
     "execution_count": 4,
     "metadata": {},
     "output_type": "execute_result"
    }
   ],
   "source": [
    "#Lote A\n",
    "bd_hormA =lotes[0]\n",
    "bd_hormA"
   ]
  },
  {
   "cell_type": "code",
   "execution_count": 5,
   "metadata": {},
   "outputs": [
    {
     "data": {
      "text/plain": [
       "array([[150.55555556,  23.07777778]])"
      ]
     },
     "execution_count": 5,
     "metadata": {},
     "output_type": "execute_result"
    }
   ],
   "source": [
    "m_horasA = bd_hormA['horas'].mean()\n",
    "m_montoA = bd_hormA['monto'].mean()\n",
    "m_horasA =  np.array(m_horasA)\n",
    "m_montoA =  np.array(m_montoA)\n",
    "promedioA = np.array([np.append(m_horasA,m_montoA)])\n",
    "promedioA"
   ]
  },
  {
   "cell_type": "code",
   "execution_count": 6,
   "metadata": {},
   "outputs": [],
   "source": [
    "#tomamos una muestra con reemplazo.\n",
    "bd_random = bd_hormA.sample(n=10,replace=True)\n",
    "reg = linear_model.LinearRegression()\n",
    "X = bd_random[[\"horas\"]]\n",
    "y = bd_random[[\"monto\"]]"
   ]
  },
  {
   "cell_type": "code",
   "execution_count": 7,
   "metadata": {},
   "outputs": [
    {
     "data": {
      "text/plain": [
       "matrix([[  1,   1,   1,   1,   1,   1,   1,   1,   1,   1],\n",
       "        [293,  52, 293, 196, 155, 171, 184, 152, 152, 184]])"
      ]
     },
     "execution_count": 7,
     "metadata": {},
     "output_type": "execute_result"
    }
   ],
   "source": [
    "d = bd_random[[\"horas\"]]\n",
    "d.index = list(range(d.shape[0]))\n",
    "c = pd.DataFrame( {\"otro\": [1 for i in range(d.shape[0])] } )\n",
    "mat = pd.concat([c, d], axis=1)\n",
    "mat = mat.to_numpy()\n",
    "mat = np.asmatrix(mat)\n",
    "mat.transpose()"
   ]
  },
  {
   "cell_type": "code",
   "execution_count": 8,
   "metadata": {},
   "outputs": [
    {
     "data": {
      "text/plain": [
       "LinearRegression()"
      ]
     },
     "execution_count": 8,
     "metadata": {},
     "output_type": "execute_result"
    }
   ],
   "source": [
    "#Ajustamos un modelo de regresión lineal:\n",
    "reg.fit(X, y)"
   ]
  },
  {
   "cell_type": "markdown",
   "metadata": {},
   "source": [
    "Construcción de $G^{-1}$"
   ]
  },
  {
   "cell_type": "code",
   "execution_count": 9,
   "metadata": {},
   "outputs": [
    {
     "name": "stderr",
     "output_type": "stream",
     "text": [
      "/tmp/ipykernel_28444/1479749227.py:3: RuntimeWarning: invalid value encountered in sqrt\n",
      "  rootG = sqrt(invG)\n"
     ]
    }
   ],
   "source": [
    "G = np.matmul(mat.transpose(), mat)\n",
    "invG=np.linalg.inv(G)\n",
    "rootG = sqrt(invG)"
   ]
  },
  {
   "cell_type": "markdown",
   "metadata": {},
   "source": [
    "Devolución de los coeficientes estimados, los cuales deben ajustarse a un modelo de regresión lineal a la muestra de arranque y devolver los coeficientes estimados."
   ]
  },
  {
   "cell_type": "code",
   "execution_count": 10,
   "metadata": {},
   "outputs": [],
   "source": [
    "# Devolución de los coeficientes estimados.\n",
    "b1A=reg.coef_\n",
    "b0A=reg.intercept_\n",
    "estimate = np.array([np.append(b0A,b1A)])\n",
    "EsA = estimate.tolist()"
   ]
  },
  {
   "cell_type": "markdown",
   "metadata": {},
   "source": [
    "Calculo de residuales"
   ]
  },
  {
   "cell_type": "code",
   "execution_count": 11,
   "metadata": {},
   "outputs": [],
   "source": [
    "Y_predA = reg.predict(X) \n",
    "y_estimA=Y_predA.reshape(-1)\n",
    "x=X.to_numpy().reshape(-1)\n",
    "y_realA=y.to_numpy()\n",
    "y_realA=y_realA.reshape(-1)\n",
    "y_realA\n",
    "n=len(y_realA)\n",
    "residualA=y_realA-y_estimA"
   ]
  },
  {
   "cell_type": "markdown",
   "metadata": {},
   "source": [
    "Calculo del error estándar de una media muestral."
   ]
  },
  {
   "cell_type": "markdown",
   "metadata": {},
   "source": [
    "Error estándar estimado $\\hat{se}$"
   ]
  },
  {
   "cell_type": "code",
   "execution_count": 12,
   "metadata": {},
   "outputs": [],
   "source": [
    "residual_cuaA = residualA ** 2\n",
    "prom_residualA = mean(residual_cuaA)\n",
    "sigma_gorro = sqrt(prom_residualA)\n",
    "se_gorro= sigma_gorro * rootG\n",
    "se_gorroD=se_gorro.diagonal()\n",
    "se_lgA = se_gorroD.tolist()"
   ]
  },
  {
   "cell_type": "markdown",
   "metadata": {},
   "source": [
    "Error estándar estimado $\\bar{se}$"
   ]
  },
  {
   "cell_type": "code",
   "execution_count": 13,
   "metadata": {},
   "outputs": [],
   "source": [
    "np_residualA = sum(residual_cuaA)/(d.shape[0]-2)\n",
    "sigma_barra = sqrt(np_residualA)\n",
    "se_barra= sigma_barra * rootG\n",
    "se_barraD=se_barra.diagonal()\n",
    "se_lbA = se_barraD.tolist()"
   ]
  },
  {
   "cell_type": "markdown",
   "metadata": {},
   "source": [
    "Calculo del error estándar de los coeficientes estimados."
   ]
  },
  {
   "cell_type": "code",
   "execution_count": 14,
   "metadata": {},
   "outputs": [
    {
     "data": {
      "text/html": [
       "<div>\n",
       "<style scoped>\n",
       "    .dataframe tbody tr th:only-of-type {\n",
       "        vertical-align: middle;\n",
       "    }\n",
       "\n",
       "    .dataframe tbody tr th {\n",
       "        vertical-align: top;\n",
       "    }\n",
       "\n",
       "    .dataframe thead th {\n",
       "        text-align: right;\n",
       "    }\n",
       "</style>\n",
       "<table border=\"1\" class=\"dataframe\">\n",
       "  <thead>\n",
       "    <tr style=\"text-align: right;\">\n",
       "      <th></th>\n",
       "      <th>Estimate</th>\n",
       "      <th>$\\hat{se}$</th>\n",
       "      <th>$se$</th>\n",
       "    </tr>\n",
       "  </thead>\n",
       "  <tbody>\n",
       "    <tr>\n",
       "      <th>0</th>\n",
       "      <td>31.958209</td>\n",
       "      <td>1.068998</td>\n",
       "      <td>1.195176</td>\n",
       "    </tr>\n",
       "    <tr>\n",
       "      <th>1</th>\n",
       "      <td>-0.061726</td>\n",
       "      <td>0.005484</td>\n",
       "      <td>0.006131</td>\n",
       "    </tr>\n",
       "  </tbody>\n",
       "</table>\n",
       "</div>"
      ],
      "text/plain": [
       "    Estimate  $\\hat{se}$      $se$\n",
       "0  31.958209    1.068998  1.195176\n",
       "1  -0.061726    0.005484  0.006131"
      ]
     },
     "execution_count": 14,
     "metadata": {},
     "output_type": "execute_result"
    }
   ],
   "source": [
    "df = pd.DataFrame({\"Estimate\": [EsA[0][0], EsA[0][1]], \"$\\hat{se}$\": [se_lgA[0][0], se_lgA[0][1]], \"$se$\": [se_lbA[0][0], se_lbA[0][1]]})\n",
    "df"
   ]
  },
  {
   "cell_type": "markdown",
   "metadata": {},
   "source": [
    "Entrenaremos 1000 modelos lineales tomando muestras de tamaño 10 de bd_hormA y haremos histogramas de los valores obtenidos."
   ]
  },
  {
   "cell_type": "code",
   "execution_count": 15,
   "metadata": {},
   "outputs": [],
   "source": [
    "betas_0A = np.array([])\n",
    "betas_1A = np.array([])\n",
    "\n",
    "# Generación de réplicas  bootstrap\n",
    "for i in range(10000):\n",
    "    # toma muestra\n",
    "    bd_random = bd_hormA.sample(n=10,replace=True)\n",
    "    reg = linear_model.LinearRegression()\n",
    "    X = bd_random[[\"horas\"]]\n",
    "    y = bd_random[[\"monto\"]]\n",
    "   \n",
    "    # entrena el modelo lineal\n",
    "    reg.fit(X, y)\n",
    "    \n",
    "    # almacena las betas\n",
    "    b1A=reg.coef_\n",
    "    b0A=reg.intercept_\n",
    "    \n",
    "    betas_0A = np.append(betas_0A, b0A)\n",
    "    betas_1A = np.append(betas_1A, b1A)"
   ]
  },
  {
   "cell_type": "markdown",
   "metadata": {},
   "source": [
    "### Histogramas A"
   ]
  },
  {
   "cell_type": "code",
   "execution_count": 16,
   "metadata": {},
   "outputs": [
    {
     "name": "stdout",
     "output_type": "stream",
     "text": [
      "La beta_1A estimada sin Bootstrap: -0.06172603060727867\n",
      "Promedio de beta_1A de la muestras Bootstrap: -0.06872040652326651\n",
      "( -0.08285273517405478 , -0.05463565182549411 )\n",
      "La desviación estandar de las beta_1A obtenidas por las muestras Bootstrap es: 0.006783469892332639\n",
      "Que resulta ser una buena aproximación al error estandar insesgado obtenido arriba de: 0.006131092401764239\n"
     ]
    },
    {
     "data": {
      "image/png": "[encoded data removed]",
      "text/plain": [
       "<Figure size 648x432 with 1 Axes>"
      ]
     },
     "metadata": {
      "needs_background": "light"
     },
     "output_type": "display_data"
    }
   ],
   "source": [
    "fig, ax = plt.subplots(figsize=(9,6))\n",
    "hist(betas_1A,bins=50,alpha=0.5,edgecolor=\"white\",label=\"b_1A Boostrap\")\n",
    "axvline(x=df.iloc[1,0],color='green', linestyle='--',linewidth=3,label=\"b_1A con regresión\")\n",
    "axvline(x=np.mean(betas_1A),color='black', linestyle='--',linewidth=3,label=\"Promedio de b_1A con Boostrap\")\n",
    "\n",
    "axvline(percentile(betas_1A,2.5),color=\"blue\",linestyle=\"--\",linewidth=2)                                                                                                                                                    \n",
    "axvline(percentile(betas_1A,97.5),color=\"blue\",linestyle=\"--\",linewidth=2) \n",
    "plt.legend(loc='best')\n",
    "\n",
    "print(\"La beta_1A estimada sin Bootstrap:\", df.iloc[1,0])\n",
    "print(\"Promedio de beta_1A de la muestras Bootstrap:\", np.mean(betas_1A))\n",
    "print(\"(\", percentile(betas_1A,2.5),\",\",percentile(betas_1A,97.5),\")\")\n",
    "print(\"La desviación estandar de las beta_1A obtenidas por las muestras Bootstrap es:\", np.std(betas_1A))\n",
    "print(\"Que resulta ser una buena aproximación al error estandar insesgado obtenido arriba de:\", df.iloc[1,2])\n",
    "\n"
   ]
  },
  {
   "cell_type": "code",
   "execution_count": 17,
   "metadata": {},
   "outputs": [
    {
     "data": {
      "image/png": "[encoded data removed]",
      "text/plain": [
       "<Figure size 648x432 with 1 Axes>"
      ]
     },
     "metadata": {
      "needs_background": "light"
     },
     "output_type": "display_data"
    },
    {
     "name": "stdout",
     "output_type": "stream",
     "text": [
      "La beta_0 estimada sin Bootstrap: 31.958208807253456\n",
      "Promedio de beta_0 de la muestras Bootstrap: 33.31716544928699\n",
      "( 30.51509728250881 , 34.94774295057867 )\n",
      "La desviación estandar de las beta_0 obtenidas por las muestras Bootstrap es: 1.1191359895235948\n",
      "Que resulta ser una buena aproximación al error estandar insesgado obtenido arriba de: 1.1951762253318632\n"
     ]
    }
   ],
   "source": [
    "fig, ax = plt.subplots(figsize=(9,6))\n",
    "hist(betas_0A,bins=50,alpha=0.5,edgecolor=\"white\",label=\"b_0A Boostrap\")\n",
    "axvline(x=df.iloc[0,0],color='green', linestyle='--',linewidth=3,label=\"b_0A con regresión\")\n",
    "axvline(x=np.mean(betas_0A),color='black', linestyle='--',linewidth=3,label=\"Promedio de b_0 con Boostrap\")\n",
    "\n",
    "axvline(percentile(betas_0A,2.5),color=\"blue\",linestyle=\"--\",linewidth=2)                                                                                                                                                    \n",
    "axvline(percentile(betas_0A,97.5),color=\"blue\",linestyle=\"--\",linewidth=2) \n",
    "plt.legend(loc='best')\n",
    "plt.show()\n",
    "print(\"La beta_0 estimada sin Bootstrap:\", df.iloc[0,0])\n",
    "print(\"Promedio de beta_0 de la muestras Bootstrap:\", np.mean(betas_0A))\n",
    "print(\"(\", percentile(betas_0A,2.5),\",\",percentile(betas_0A,97.5),\")\")\n",
    "print(\"La desviación estandar de las beta_0 obtenidas por las muestras Bootstrap es:\", np.std(betas_0A))\n",
    "print(\"Que resulta ser una buena aproximación al error estandar insesgado obtenido arriba de:\", df.iloc[0,2])\n",
    "\n"
   ]
  },
  {
   "cell_type": "code",
   "execution_count": 18,
   "metadata": {},
   "outputs": [
    {
     "data": {
      "text/plain": [
       "array(33.31716545)"
      ]
     },
     "execution_count": 18,
     "metadata": {},
     "output_type": "execute_result"
    }
   ],
   "source": [
    "bob0A = mean(betas_0A)\n",
    "bob0A =  np.array(bob0A)\n",
    "bob0A"
   ]
  },
  {
   "cell_type": "code",
   "execution_count": 19,
   "metadata": {},
   "outputs": [
    {
     "data": {
      "text/plain": [
       "array(1.11913599)"
      ]
     },
     "execution_count": 19,
     "metadata": {},
     "output_type": "execute_result"
    }
   ],
   "source": [
    "DEA = np.std(betas_0A)\n",
    "DEA  =  np.array(DEA )\n",
    "DEA "
   ]
  },
  {
   "cell_type": "markdown",
   "metadata": {},
   "source": [
    "### Lote B"
   ]
  },
  {
   "cell_type": "code",
   "execution_count": 20,
   "metadata": {},
   "outputs": [],
   "source": [
    "#Lote B\n",
    "bd_hormB =lotes[1]"
   ]
  },
  {
   "cell_type": "code",
   "execution_count": 21,
   "metadata": {},
   "outputs": [
    {
     "name": "stderr",
     "output_type": "stream",
     "text": [
      "/tmp/ipykernel_28444/1849091052.py:24: RuntimeWarning: invalid value encountered in sqrt\n",
      "  rootG = sqrt(invG)\n"
     ]
    }
   ],
   "source": [
    "m_horasB = bd_hormB['horas'].mean()\n",
    "m_montoB = bd_hormB['monto'].mean()\n",
    "m_horasB =  np.array(m_horasB)\n",
    "m_montoB =  np.array(m_montoB)\n",
    "promedioB = np.array([np.append(m_horasB,m_montoB)])\n",
    "#tomamos una muestra con reemplazo.\n",
    "bd_random = bd_hormB.sample(n=10,replace=True)\n",
    "reg = linear_model.LinearRegression()\n",
    "X = bd_random[[\"horas\"]]\n",
    "y = bd_random[[\"monto\"]]\n",
    "reg.fit(X, y)\n",
    "d = bd_random[[\"horas\"]]\n",
    "d.index = list(range(d.shape[0]))\n",
    "c = pd.DataFrame( {\"otro\": [1 for i in range(d.shape[0])] } )\n",
    "mat = pd.concat([c, d], axis=1)\n",
    "mat = mat.to_numpy()\n",
    "mat = np.asmatrix(mat)\n",
    "mat.transpose()\n",
    "reg.fit(X, y)\n",
    "\n",
    "## Construcción de $G^{-1}$\n",
    "G = np.matmul(mat.transpose(), mat)\n",
    "invG=np.linalg.inv(G)\n",
    "rootG = sqrt(invG)"
   ]
  },
  {
   "cell_type": "markdown",
   "metadata": {},
   "source": [
    "Obtención de los estimadores ($\\beta_0$, $\\beta_1$)"
   ]
  },
  {
   "cell_type": "code",
   "execution_count": 22,
   "metadata": {},
   "outputs": [
    {
     "data": {
      "text/plain": [
       "[[36.159145814097556, -0.0588423756150583]]"
      ]
     },
     "execution_count": 22,
     "metadata": {},
     "output_type": "execute_result"
    }
   ],
   "source": [
    "b1=reg.coef_\n",
    "b0=reg.intercept_\n",
    "estimate = np.array([np.append(b0,b1)])\n",
    "EsB = estimate.tolist()\n",
    "EsB"
   ]
  },
  {
   "cell_type": "code",
   "execution_count": 23,
   "metadata": {},
   "outputs": [],
   "source": [
    "Y_pred = reg.predict(X) \n",
    "y_estim=Y_pred.reshape(-1)\n",
    "x=X.to_numpy().reshape(-1)\n",
    "y_real=y.to_numpy()\n",
    "y_real=y_real.reshape(-1)\n",
    "y_real\n",
    "n=len(y_real)\n",
    "residual=y_real-y_estim\n",
    "## Error estandar estimado 1\n",
    "residual_cua = residual ** 2\n",
    "prom_residual = mean(residual_cua)\n",
    "sigma_gorro = sqrt(prom_residual)\n",
    "se_gorro= sigma_gorro * rootG\n",
    "se_gorroD=se_gorro.diagonal()\n",
    "se_lgB = se_gorroD.tolist()\n",
    "\n",
    "## Error estandar estimado 1\n",
    "np_residual = sum(residual_cua)/(d.shape[0]-2)\n",
    "sigma_barra = sqrt(np_residual)\n",
    "se_barra= sigma_barra * rootG\n",
    "se_barraD=se_barra.diagonal()\n",
    "se_lbB = se_barraD.tolist()"
   ]
  },
  {
   "cell_type": "code",
   "execution_count": 24,
   "metadata": {},
   "outputs": [
    {
     "data": {
      "text/html": [
       "<div>\n",
       "<style scoped>\n",
       "    .dataframe tbody tr th:only-of-type {\n",
       "        vertical-align: middle;\n",
       "    }\n",
       "\n",
       "    .dataframe tbody tr th {\n",
       "        vertical-align: top;\n",
       "    }\n",
       "\n",
       "    .dataframe thead th {\n",
       "        text-align: right;\n",
       "    }\n",
       "</style>\n",
       "<table border=\"1\" class=\"dataframe\">\n",
       "  <thead>\n",
       "    <tr style=\"text-align: right;\">\n",
       "      <th></th>\n",
       "      <th>Estimate</th>\n",
       "      <th>$\\hat{se}$</th>\n",
       "      <th>$se$</th>\n",
       "    </tr>\n",
       "  </thead>\n",
       "  <tbody>\n",
       "    <tr>\n",
       "      <th>0</th>\n",
       "      <td>36.159146</td>\n",
       "      <td>1.174392</td>\n",
       "      <td>1.313011</td>\n",
       "    </tr>\n",
       "    <tr>\n",
       "      <th>1</th>\n",
       "      <td>-0.058842</td>\n",
       "      <td>0.004031</td>\n",
       "      <td>0.004507</td>\n",
       "    </tr>\n",
       "  </tbody>\n",
       "</table>\n",
       "</div>"
      ],
      "text/plain": [
       "    Estimate  $\\hat{se}$      $se$\n",
       "0  36.159146    1.174392  1.313011\n",
       "1  -0.058842    0.004031  0.004507"
      ]
     },
     "execution_count": 24,
     "metadata": {},
     "output_type": "execute_result"
    }
   ],
   "source": [
    "df = pd.DataFrame({\"Estimate\": [EsB[0][0], EsB[0][1]], \"$\\hat{se}$\": [se_lgB[0][0], se_lgB[0][1]], \"$se$\": [se_lbB[0][0], se_lbB[0][1]]})\n",
    "df"
   ]
  },
  {
   "cell_type": "markdown",
   "metadata": {},
   "source": [
    "Bootstrap\n",
    "una vez que ya sabemos cuales son los erroes estandar de las  𝛽  podemos comparar el resultado usando Bootstrap.\n",
    "\n",
    "Entrenaremos 1000 modelos lineales tomando muestras de tamaño 10 de bd_horm y haremos histogramas de los valores obtenidos."
   ]
  },
  {
   "cell_type": "code",
   "execution_count": 25,
   "metadata": {},
   "outputs": [],
   "source": [
    "betas_0B = np.array([])\n",
    "betas_1B = np.array([])\n",
    "\n",
    "for i in range(10000):\n",
    "    # toma muestra\n",
    "    bd_random = bd_hormB.sample(n=10,replace=True)\n",
    "    reg = linear_model.LinearRegression()\n",
    "    X = bd_random[[\"horas\"]]\n",
    "    y = bd_random[[\"monto\"]]\n",
    "   \n",
    "    # entrena el modelo lineal\n",
    "    reg.fit(X, y)\n",
    "    \n",
    "    # almacena las betas\n",
    "    b1B=reg.coef_\n",
    "    b0B=reg.intercept_\n",
    "    \n",
    "    betas_0B = np.append(betas_0B, b0B)\n",
    "    betas_1B = np.append(betas_1B, b1B)"
   ]
  },
  {
   "cell_type": "markdown",
   "metadata": {},
   "source": [
    "### Histogramas B"
   ]
  },
  {
   "cell_type": "code",
   "execution_count": 26,
   "metadata": {},
   "outputs": [
    {
     "name": "stdout",
     "output_type": "stream",
     "text": [
      "La beta_1 estimada sin Bootstrap: -0.0588423756150583\n",
      "Promedio de beta_1 de la muestras Bootstrap: -0.05643203170183748\n",
      "( -0.06527271221023544 , -0.047538170936290966 )\n",
      "La desviación estandar de las beta_1 obtenidas por las muestras Bootstrap es: 0.004398427841888987\n",
      "Que resulta ser una buena aproximación al error estandar insesgado obtenido arriba de: 0.004506984102795363\n"
     ]
    },
    {
     "data": {
      "image/png": "[encoded data removed]",
      "text/plain": [
       "<Figure size 648x432 with 1 Axes>"
      ]
     },
     "metadata": {
      "needs_background": "light"
     },
     "output_type": "display_data"
    }
   ],
   "source": [
    "fig, ax = plt.subplots(figsize=(9,6))\n",
    "hist(betas_1B,bins=50,alpha=0.5,edgecolor=\"white\",label=\"b_1 Boostrap\")\n",
    "axvline(x=df.iloc[1,0],color='green', linestyle='--',linewidth=3,label=\"b_1 con regresión\")\n",
    "axvline(x=np.mean(betas_1B),color='black', linestyle='--',linewidth=3,label=\"Promedio de b_1 con Boostrap\")\n",
    "\n",
    "axvline(percentile(betas_1B,2.5),color=\"blue\",linestyle=\"--\",linewidth=2)                                                                                                                                                    \n",
    "axvline(percentile(betas_1B,97.5),color=\"blue\",linestyle=\"--\",linewidth=2) \n",
    "plt.legend(loc='best')\n",
    "\n",
    "print(\"La beta_1 estimada sin Bootstrap:\", df.iloc[1,0])\n",
    "print(\"Promedio de beta_1 de la muestras Bootstrap:\", np.mean(betas_1B))\n",
    "print(\"(\", percentile(betas_1B,2.5),\",\",percentile(betas_1B,97.5),\")\")\n",
    "print(\"La desviación estandar de las beta_1 obtenidas por las muestras Bootstrap es:\", np.std(betas_1B))\n",
    "print(\"Que resulta ser una buena aproximación al error estandar insesgado obtenido arriba de:\", df.iloc[1,2])\n"
   ]
  },
  {
   "cell_type": "code",
   "execution_count": 27,
   "metadata": {},
   "outputs": [
    {
     "data": {
      "image/png": "[encoded data removed]",
      "text/plain": [
       "<Figure size 648x432 with 1 Axes>"
      ]
     },
     "metadata": {
      "needs_background": "light"
     },
     "output_type": "display_data"
    },
    {
     "name": "stdout",
     "output_type": "stream",
     "text": [
      "La beta_0 estimada sin Bootstrap: 36.159145814097556\n",
      "Promedio de beta_0 de la muestras Bootstrap: 35.294953382581156\n",
      "( 33.18750583474171 , 38.026611842411796 )\n",
      "La desviación estandar de las beta_0 obtenidas por las muestras Bootstrap es: 1.1975333239921293\n",
      "Que resulta ser una buena aproximación al error estandar insesgado obtenido arriba de: 1.3130106369760663\n"
     ]
    }
   ],
   "source": [
    "\n",
    "fig, ax = plt.subplots(figsize=(9,6))\n",
    "hist(betas_0B,bins=50,alpha=0.5,edgecolor=\"white\",label=\"b_0 Boostrap\")\n",
    "axvline(x=df.iloc[0,0],color='green', linestyle='--',linewidth=3,label=\"b_0 con regresión\")\n",
    "axvline(x=np.mean(betas_0B),color='black', linestyle='--',linewidth=3,label=\"Promedio de b_0 con Boostrap\")\n",
    "\n",
    "axvline(percentile(betas_0B,2.5),color=\"blue\",linestyle=\"--\",linewidth=2)                                                                                                                                                    \n",
    "axvline(percentile(betas_0B,97.5),color=\"blue\",linestyle=\"--\",linewidth=2) \n",
    "plt.legend(loc='best')\n",
    "plt.show()\n",
    "print(\"La beta_0 estimada sin Bootstrap:\", df.iloc[0,0])\n",
    "print(\"Promedio de beta_0 de la muestras Bootstrap:\", np.mean(betas_0B))\n",
    "print(\"(\", percentile(betas_0B,2.5),\",\",percentile(betas_0B,97.5),\")\")\n",
    "print(\"La desviación estandar de las beta_0 obtenidas por las muestras Bootstrap es:\", np.std(betas_0B))\n",
    "print(\"Que resulta ser una buena aproximación al error estandar insesgado obtenido arriba de:\", df.iloc[0,2])\n",
    "\n"
   ]
  },
  {
   "cell_type": "code",
   "execution_count": 28,
   "metadata": {},
   "outputs": [],
   "source": [
    "bob0B = mean(betas_0B)\n",
    "bob0B =  np.array(bob0B)\n",
    "DEB = np.std(betas_0B)\n",
    "DEB  =  np.array(DEB )"
   ]
  },
  {
   "cell_type": "markdown",
   "metadata": {},
   "source": [
    "### Lote C"
   ]
  },
  {
   "cell_type": "code",
   "execution_count": 29,
   "metadata": {},
   "outputs": [
    {
     "data": {
      "text/html": [
       "<div>\n",
       "<style scoped>\n",
       "    .dataframe tbody tr th:only-of-type {\n",
       "        vertical-align: middle;\n",
       "    }\n",
       "\n",
       "    .dataframe tbody tr th {\n",
       "        vertical-align: top;\n",
       "    }\n",
       "\n",
       "    .dataframe thead th {\n",
       "        text-align: right;\n",
       "    }\n",
       "</style>\n",
       "<table border=\"1\" class=\"dataframe\">\n",
       "  <thead>\n",
       "    <tr style=\"text-align: right;\">\n",
       "      <th></th>\n",
       "      <th>lote</th>\n",
       "      <th>horas</th>\n",
       "      <th>monto</th>\n",
       "    </tr>\n",
       "  </thead>\n",
       "  <tbody>\n",
       "    <tr>\n",
       "      <th>18</th>\n",
       "      <td>C</td>\n",
       "      <td>119</td>\n",
       "      <td>28.8</td>\n",
       "    </tr>\n",
       "    <tr>\n",
       "      <th>19</th>\n",
       "      <td>C</td>\n",
       "      <td>188</td>\n",
       "      <td>22.0</td>\n",
       "    </tr>\n",
       "    <tr>\n",
       "      <th>20</th>\n",
       "      <td>C</td>\n",
       "      <td>115</td>\n",
       "      <td>29.7</td>\n",
       "    </tr>\n",
       "    <tr>\n",
       "      <th>21</th>\n",
       "      <td>C</td>\n",
       "      <td>88</td>\n",
       "      <td>28.9</td>\n",
       "    </tr>\n",
       "    <tr>\n",
       "      <th>22</th>\n",
       "      <td>C</td>\n",
       "      <td>58</td>\n",
       "      <td>32.8</td>\n",
       "    </tr>\n",
       "    <tr>\n",
       "      <th>23</th>\n",
       "      <td>C</td>\n",
       "      <td>49</td>\n",
       "      <td>32.5</td>\n",
       "    </tr>\n",
       "    <tr>\n",
       "      <th>24</th>\n",
       "      <td>C</td>\n",
       "      <td>150</td>\n",
       "      <td>25.4</td>\n",
       "    </tr>\n",
       "    <tr>\n",
       "      <th>25</th>\n",
       "      <td>C</td>\n",
       "      <td>107</td>\n",
       "      <td>31.7</td>\n",
       "    </tr>\n",
       "    <tr>\n",
       "      <th>26</th>\n",
       "      <td>C</td>\n",
       "      <td>125</td>\n",
       "      <td>28.5</td>\n",
       "    </tr>\n",
       "  </tbody>\n",
       "</table>\n",
       "</div>"
      ],
      "text/plain": [
       "   lote  horas  monto\n",
       "18    C    119   28.8\n",
       "19    C    188   22.0\n",
       "20    C    115   29.7\n",
       "21    C     88   28.9\n",
       "22    C     58   32.8\n",
       "23    C     49   32.5\n",
       "24    C    150   25.4\n",
       "25    C    107   31.7\n",
       "26    C    125   28.5"
      ]
     },
     "execution_count": 29,
     "metadata": {},
     "output_type": "execute_result"
    }
   ],
   "source": [
    "bd_hormC =lotes[2]\n",
    "bd_hormC"
   ]
  },
  {
   "cell_type": "code",
   "execution_count": 30,
   "metadata": {},
   "outputs": [
    {
     "data": {
      "text/plain": [
       "matrix([[  1,   1,   1,   1,   1,   1,   1,   1,   1,   1],\n",
       "        [ 58,  58,  58, 115, 115, 125,  58, 107,  58, 188]])"
      ]
     },
     "execution_count": 30,
     "metadata": {},
     "output_type": "execute_result"
    }
   ],
   "source": [
    "m_horasC = bd_hormC['horas'].mean()\n",
    "m_montoC = bd_hormC['monto'].mean()\n",
    "m_horasC =  np.array(m_horasC)\n",
    "m_montoC =  np.array(m_montoC)\n",
    "promedioC = np.array([np.append(m_horasC,m_montoC)])\n",
    "#tomamos una muestra con reemplazo.\n",
    "bd_random = bd_hormC.sample(n=10,replace=True)\n",
    "reg = linear_model.LinearRegression()\n",
    "X = bd_random[[\"horas\"]]\n",
    "y = bd_random[[\"monto\"]]\n",
    "reg.fit(X, y)\n",
    "d = bd_random[[\"horas\"]]\n",
    "d.index = list(range(d.shape[0]))\n",
    "c = pd.DataFrame( {\"otro\": [1 for i in range(d.shape[0])] } )\n",
    "mat = pd.concat([c, d], axis=1)\n",
    "mat = mat.to_numpy()\n",
    "mat = np.asmatrix(mat)\n",
    "mat.transpose()"
   ]
  },
  {
   "cell_type": "code",
   "execution_count": 31,
   "metadata": {},
   "outputs": [
    {
     "data": {
      "text/plain": [
       "LinearRegression()"
      ]
     },
     "execution_count": 31,
     "metadata": {},
     "output_type": "execute_result"
    }
   ],
   "source": [
    "reg.fit(X, y)"
   ]
  },
  {
   "cell_type": "code",
   "execution_count": 32,
   "metadata": {},
   "outputs": [
    {
     "name": "stderr",
     "output_type": "stream",
     "text": [
      "/tmp/ipykernel_28444/1479749227.py:3: RuntimeWarning: invalid value encountered in sqrt\n",
      "  rootG = sqrt(invG)\n"
     ]
    }
   ],
   "source": [
    "G = np.matmul(mat.transpose(), mat)\n",
    "invG=np.linalg.inv(G)\n",
    "rootG = sqrt(invG)"
   ]
  },
  {
   "cell_type": "code",
   "execution_count": 33,
   "metadata": {},
   "outputs": [],
   "source": [
    "b1=reg.coef_\n",
    "b0=reg.intercept_\n",
    "estimate = np.array([np.append(b0,b1)])\n",
    "EsC = estimate.tolist()\n",
    "\n",
    "Y_pred = reg.predict(X) \n",
    "y_estim=Y_pred.reshape(-1)\n",
    "x=X.to_numpy().reshape(-1)\n",
    "y_real=y.to_numpy()\n",
    "y_real=y_real.reshape(-1)\n",
    "y_real\n",
    "n=len(y_real)\n",
    "residual=y_real-y_estim\n",
    "\n",
    "np_residual = sum(residual_cua)/(d.shape[0]-2)\n",
    "sigma_barra = sqrt(np_residual)\n",
    "se_barra= sigma_barra * rootG\n",
    "se_barraD=se_barra.diagonal()\n",
    "se_lbC = se_barraD.tolist()\n",
    "\n",
    "residual_cua = residual ** 2\n",
    "prom_residual = mean(residual_cua)\n",
    "sigma_gorro = sqrt(prom_residual)\n",
    "se_gorro= sigma_gorro * rootG\n",
    "se_gorroD=se_gorro.diagonal()\n",
    "se_lgC = se_gorroD.tolist()"
   ]
  },
  {
   "cell_type": "code",
   "execution_count": 34,
   "metadata": {},
   "outputs": [
    {
     "data": {
      "text/html": [
       "<div>\n",
       "<style scoped>\n",
       "    .dataframe tbody tr th:only-of-type {\n",
       "        vertical-align: middle;\n",
       "    }\n",
       "\n",
       "    .dataframe tbody tr th {\n",
       "        vertical-align: top;\n",
       "    }\n",
       "\n",
       "    .dataframe thead th {\n",
       "        text-align: right;\n",
       "    }\n",
       "</style>\n",
       "<table border=\"1\" class=\"dataframe\">\n",
       "  <thead>\n",
       "    <tr style=\"text-align: right;\">\n",
       "      <th></th>\n",
       "      <th>Estimate</th>\n",
       "      <th>$\\hat{se}$</th>\n",
       "      <th>$se$</th>\n",
       "    </tr>\n",
       "  </thead>\n",
       "  <tbody>\n",
       "    <tr>\n",
       "      <th>0</th>\n",
       "      <td>37.574197</td>\n",
       "      <td>0.736834</td>\n",
       "      <td>1.302335</td>\n",
       "    </tr>\n",
       "    <tr>\n",
       "      <th>1</th>\n",
       "      <td>-0.074619</td>\n",
       "      <td>0.007167</td>\n",
       "      <td>0.012668</td>\n",
       "    </tr>\n",
       "  </tbody>\n",
       "</table>\n",
       "</div>"
      ],
      "text/plain": [
       "    Estimate  $\\hat{se}$      $se$\n",
       "0  37.574197    0.736834  1.302335\n",
       "1  -0.074619    0.007167  0.012668"
      ]
     },
     "execution_count": 34,
     "metadata": {},
     "output_type": "execute_result"
    }
   ],
   "source": [
    "df = pd.DataFrame({\"Estimate\": [EsC[0][0], EsC[0][1]], \"$\\hat{se}$\": [se_lgC[0][0], se_lgC[0][1]], \"$se$\": [se_lbC[0][0], se_lbC[0][1]]})\n",
    "df"
   ]
  },
  {
   "cell_type": "code",
   "execution_count": 35,
   "metadata": {},
   "outputs": [],
   "source": [
    "betas_0C = np.array([])\n",
    "betas_1C = np.array([])\n",
    "\n",
    "for i in range(10000):\n",
    "    # toma muestra\n",
    "    bd_random = bd_hormC.sample(n=10,replace=True)\n",
    "    reg = linear_model.LinearRegression()\n",
    "    X = bd_random[[\"horas\"]]\n",
    "    y = bd_random[[\"monto\"]]\n",
    "   \n",
    "    # entrena el modelo lineal\n",
    "    reg.fit(X, y)\n",
    "    \n",
    "    # almacena las betas\n",
    "    b1C=reg.coef_\n",
    "    b0C=reg.intercept_\n",
    "    \n",
    "    betas_0C = np.append(betas_0C, b0C)\n",
    "    betas_1C = np.append(betas_1C, b1C)"
   ]
  },
  {
   "cell_type": "markdown",
   "metadata": {},
   "source": [
    "### Histogramas C"
   ]
  },
  {
   "cell_type": "code",
   "execution_count": 36,
   "metadata": {},
   "outputs": [
    {
     "name": "stdout",
     "output_type": "stream",
     "text": [
      "La beta_1 estimada sin Bootstrap: -0.07461911357340718\n",
      "Promedio de beta_1 de la muestras Bootstrap: -0.07304353334379571\n",
      "( -0.09719639435020226 , -0.04401852083193532 )\n",
      "La desviación estandar de las beta_1 obtenidas por las muestras Bootstrap es: 0.013067461643639778\n",
      "Que resulta ser una buena aproximación al error estandar insesgado obtenido arriba de: 0.012668048685995907\n"
     ]
    },
    {
     "data": {
      "image/png": "[encoded data removed]",
      "text/plain": [
       "<Figure size 648x432 with 1 Axes>"
      ]
     },
     "metadata": {
      "needs_background": "light"
     },
     "output_type": "display_data"
    }
   ],
   "source": [
    "fig, ax = plt.subplots(figsize=(9,6))\n",
    "hist(betas_1C,bins=50,alpha=0.5,edgecolor=\"white\",label=\"b_1 Boostrap\")\n",
    "axvline(x=df.iloc[1,0],color='green', linestyle='--',linewidth=3,label=\"b_1 con regresión\")\n",
    "axvline(x=np.mean(betas_1C),color='black', linestyle='--',linewidth=3,label=\"Promedio de b_1 con Boostrap\")\n",
    "\n",
    "axvline(percentile(betas_1C,2.5),color=\"blue\",linestyle=\"--\",linewidth=2)                                                                                                                                                    \n",
    "axvline(percentile(betas_1C,97.5),color=\"blue\",linestyle=\"--\",linewidth=2) \n",
    "plt.legend(loc='best')\n",
    "\n",
    "print(\"La beta_1 estimada sin Bootstrap:\", df.iloc[1,0])\n",
    "print(\"Promedio de beta_1 de la muestras Bootstrap:\", np.mean(betas_1C))\n",
    "print(\"(\", percentile(betas_1C,2.5),\",\",percentile(betas_1C,97.5),\")\")\n",
    "print(\"La desviación estandar de las beta_1 obtenidas por las muestras Bootstrap es:\", np.std(betas_1C))\n",
    "print(\"Que resulta ser una buena aproximación al error estandar insesgado obtenido arriba de:\", df.iloc[1,2])\n",
    "        \n"
   ]
  },
  {
   "cell_type": "code",
   "execution_count": 37,
   "metadata": {},
   "outputs": [
    {
     "data": {
      "image/png": "[encoded data removed]",
      "text/plain": [
       "<Figure size 648x432 with 1 Axes>"
      ]
     },
     "metadata": {
      "needs_background": "light"
     },
     "output_type": "display_data"
    },
    {
     "name": "stdout",
     "output_type": "stream",
     "text": [
      "La beta_0 estimada sin Bootstrap: 37.574196675900275\n",
      "Promedio de beta_0 de la muestras Bootstrap: 37.144569024517125\n",
      "( 34.59270643063769 , 40.62318047726562 )\n",
      "La desviación estandar de las beta_0 obtenidas por las muestras Bootstrap es: 1.5479905018148203\n",
      "Que resulta ser una buena aproximación al error estandar insesgado obtenido arriba de: 1.3023345539989901\n"
     ]
    }
   ],
   "source": [
    "fig, ax = plt.subplots(figsize=(9,6))\n",
    "hist(betas_0C,bins=50,alpha=0.5,edgecolor=\"white\",label=\"b_0 Boostrap\")\n",
    "axvline(x=df.iloc[0,0],color='green', linestyle='--',linewidth=3,label=\"b_0 con regresión\")\n",
    "axvline(x=np.mean(betas_0C),color='black', linestyle='--',linewidth=3,label=\"Promedio de b_0 con Boostrap\")\n",
    "\n",
    "axvline(percentile(betas_0C,2.5),color=\"blue\",linestyle=\"--\",linewidth=2)                                                                                                                                                    \n",
    "axvline(percentile(betas_0C,97.5),color=\"blue\",linestyle=\"--\",linewidth=2) \n",
    "plt.legend(loc='best')\n",
    "plt.show()\n",
    "print(\"La beta_0 estimada sin Bootstrap:\", df.iloc[0,0])\n",
    "print(\"Promedio de beta_0 de la muestras Bootstrap:\", np.mean(betas_0C))\n",
    "print(\"(\", percentile(betas_0C,2.5),\",\",percentile(betas_0C,97.5),\")\")\n",
    "print(\"La desviación estandar de las beta_0 obtenidas por las muestras Bootstrap es:\", np.std(betas_0C))\n",
    "print(\"Que resulta ser una buena aproximación al error estandar insesgado obtenido arriba de:\", df.iloc[0,2])\n",
    "\n"
   ]
  },
  {
   "cell_type": "code",
   "execution_count": 39,
   "metadata": {},
   "outputs": [
    {
     "data": {
      "text/plain": [
       "array(37.14456902)"
      ]
     },
     "execution_count": 39,
     "metadata": {},
     "output_type": "execute_result"
    }
   ],
   "source": [
    "bob0C = mean(betas_0C)\n",
    "bob0C =  np.array(bob0C)\n",
    "bob0C"
   ]
  },
  {
   "cell_type": "code",
   "execution_count": 40,
   "metadata": {},
   "outputs": [
    {
     "data": {
      "text/plain": [
       "array(1.5479905)"
      ]
     },
     "execution_count": 40,
     "metadata": {},
     "output_type": "execute_result"
    }
   ],
   "source": [
    "DEC = np.std(betas_0C)\n",
    "DEC  =np.array(DEC)\n",
    "DEC "
   ]
  },
  {
   "cell_type": "markdown",
   "metadata": {},
   "source": [
    "### Análisis por Lotes"
   ]
  },
  {
   "cell_type": "code",
   "execution_count": 41,
   "metadata": {},
   "outputs": [
    {
     "data": {
      "text/html": [
       "<div>\n",
       "<style scoped>\n",
       "    .dataframe tbody tr th:only-of-type {\n",
       "        vertical-align: middle;\n",
       "    }\n",
       "\n",
       "    .dataframe tbody tr th {\n",
       "        vertical-align: top;\n",
       "    }\n",
       "\n",
       "    .dataframe thead th {\n",
       "        text-align: right;\n",
       "    }\n",
       "</style>\n",
       "<table border=\"1\" class=\"dataframe\">\n",
       "  <thead>\n",
       "    <tr style=\"text-align: right;\">\n",
       "      <th></th>\n",
       "      <th>Horas</th>\n",
       "      <th>$Monto$</th>\n",
       "    </tr>\n",
       "  </thead>\n",
       "  <tbody>\n",
       "    <tr>\n",
       "      <th>0</th>\n",
       "      <td>150.555556</td>\n",
       "      <td>23.077778</td>\n",
       "    </tr>\n",
       "    <tr>\n",
       "      <th>1</th>\n",
       "      <td>233.444444</td>\n",
       "      <td>22.066667</td>\n",
       "    </tr>\n",
       "    <tr>\n",
       "      <th>2</th>\n",
       "      <td>111.000000</td>\n",
       "      <td>28.922222</td>\n",
       "    </tr>\n",
       "  </tbody>\n",
       "</table>\n",
       "</div>"
      ],
      "text/plain": [
       "        Horas    $Monto$\n",
       "0  150.555556  23.077778\n",
       "1  233.444444  22.066667\n",
       "2  111.000000  28.922222"
      ]
     },
     "execution_count": 41,
     "metadata": {},
     "output_type": "execute_result"
    }
   ],
   "source": [
    "df_m = pd.DataFrame({\"Horas\": [promedioA[0][0], promedioB[0][0], promedioC[0][0]], \"$Monto$\": [promedioA[0][1], promedioB[0][1], promedioC[0][1]]})\n",
    "df_m"
   ]
  },
  {
   "cell_type": "markdown",
   "metadata": {},
   "source": [
    "Resultados del modelo de ajuste a los datos hormonales."
   ]
  },
  {
   "cell_type": "code",
   "execution_count": 42,
   "metadata": {},
   "outputs": [
    {
     "data": {
      "text/html": [
       "<div>\n",
       "<style scoped>\n",
       "    .dataframe tbody tr th:only-of-type {\n",
       "        vertical-align: middle;\n",
       "    }\n",
       "\n",
       "    .dataframe tbody tr th {\n",
       "        vertical-align: top;\n",
       "    }\n",
       "\n",
       "    .dataframe thead th {\n",
       "        text-align: right;\n",
       "    }\n",
       "</style>\n",
       "<table border=\"1\" class=\"dataframe\">\n",
       "  <thead>\n",
       "    <tr style=\"text-align: right;\">\n",
       "      <th></th>\n",
       "      <th>Estimate</th>\n",
       "      <th>$\\hat{se}$</th>\n",
       "      <th>$se$</th>\n",
       "    </tr>\n",
       "  </thead>\n",
       "  <tbody>\n",
       "    <tr>\n",
       "      <th>0</th>\n",
       "      <td>31.958209</td>\n",
       "      <td>1.068998</td>\n",
       "      <td>1.195176</td>\n",
       "    </tr>\n",
       "    <tr>\n",
       "      <th>1</th>\n",
       "      <td>36.159146</td>\n",
       "      <td>1.174392</td>\n",
       "      <td>1.313011</td>\n",
       "    </tr>\n",
       "    <tr>\n",
       "      <th>2</th>\n",
       "      <td>37.574197</td>\n",
       "      <td>0.736834</td>\n",
       "      <td>1.302335</td>\n",
       "    </tr>\n",
       "  </tbody>\n",
       "</table>\n",
       "</div>"
      ],
      "text/plain": [
       "    Estimate  $\\hat{se}$      $se$\n",
       "0  31.958209    1.068998  1.195176\n",
       "1  36.159146    1.174392  1.313011\n",
       "2  37.574197    0.736834  1.302335"
      ]
     },
     "execution_count": 42,
     "metadata": {},
     "output_type": "execute_result"
    }
   ],
   "source": [
    "df = pd.DataFrame({\"Estimate\": [EsA[0][0], EsB[0][0], EsC[0][0]], \"$\\hat{se}$\": [se_lgA[0][0], se_lgB[0][0], se_lgC[0][0]], \"$se$\": [se_lbA[0][0], se_lbB[0][0], se_lbC[0][0]]})\n",
    "df"
   ]
  },
  {
   "cell_type": "code",
   "execution_count": 43,
   "metadata": {},
   "outputs": [],
   "source": [
    "bob0A = np.array([bob0A])\n",
    "bob0B = np.array([bob0B])\n",
    "bob0C = np.array([bob0C])"
   ]
  },
  {
   "cell_type": "code",
   "execution_count": 44,
   "metadata": {},
   "outputs": [],
   "source": [
    "B = np.append (bob0A, bob0B)\n",
    "B = np.append(B,bob0C)\n"
   ]
  },
  {
   "cell_type": "code",
   "execution_count": 45,
   "metadata": {},
   "outputs": [],
   "source": [
    "DEA = np.array([DEA])\n",
    "DEB = np.array([DEB])\n",
    "DEC = np.array([DEC])\n",
    " "
   ]
  },
  {
   "cell_type": "code",
   "execution_count": 46,
   "metadata": {},
   "outputs": [],
   "source": [
    "S = np.append (DEA, DEB)\n",
    "S = np.append(S,DEC)"
   ]
  },
  {
   "cell_type": "code",
   "execution_count": 47,
   "metadata": {},
   "outputs": [
    {
     "data": {
      "text/html": [
       "<div>\n",
       "<style scoped>\n",
       "    .dataframe tbody tr th:only-of-type {\n",
       "        vertical-align: middle;\n",
       "    }\n",
       "\n",
       "    .dataframe tbody tr th {\n",
       "        vertical-align: top;\n",
       "    }\n",
       "\n",
       "    .dataframe thead th {\n",
       "        text-align: right;\n",
       "    }\n",
       "</style>\n",
       "<table border=\"1\" class=\"dataframe\">\n",
       "  <thead>\n",
       "    <tr style=\"text-align: right;\">\n",
       "      <th></th>\n",
       "      <th>Estimate</th>\n",
       "      <th>$Boot$</th>\n",
       "    </tr>\n",
       "  </thead>\n",
       "  <tbody>\n",
       "    <tr>\n",
       "      <th>0</th>\n",
       "      <td>31.958209</td>\n",
       "      <td>33.317165</td>\n",
       "    </tr>\n",
       "    <tr>\n",
       "      <th>1</th>\n",
       "      <td>36.159146</td>\n",
       "      <td>35.294953</td>\n",
       "    </tr>\n",
       "    <tr>\n",
       "      <th>2</th>\n",
       "      <td>37.574197</td>\n",
       "      <td>37.144569</td>\n",
       "    </tr>\n",
       "  </tbody>\n",
       "</table>\n",
       "</div>"
      ],
      "text/plain": [
       "    Estimate     $Boot$\n",
       "0  31.958209  33.317165\n",
       "1  36.159146  35.294953\n",
       "2  37.574197  37.144569"
      ]
     },
     "execution_count": 47,
     "metadata": {},
     "output_type": "execute_result"
    }
   ],
   "source": [
    "df = pd.DataFrame({\"Estimate\": [EsA[0][0], EsB[0][0], EsC[0][0]],  \"$Boot$\": [B[0], B[1], B[2]]})\n",
    "df"
   ]
  },
  {
   "cell_type": "code",
   "execution_count": 48,
   "metadata": {},
   "outputs": [
    {
     "data": {
      "text/html": [
       "<div>\n",
       "<style scoped>\n",
       "    .dataframe tbody tr th:only-of-type {\n",
       "        vertical-align: middle;\n",
       "    }\n",
       "\n",
       "    .dataframe tbody tr th {\n",
       "        vertical-align: top;\n",
       "    }\n",
       "\n",
       "    .dataframe thead th {\n",
       "        text-align: right;\n",
       "    }\n",
       "</style>\n",
       "<table border=\"1\" class=\"dataframe\">\n",
       "  <thead>\n",
       "    <tr style=\"text-align: right;\">\n",
       "      <th></th>\n",
       "      <th>Estimate</th>\n",
       "      <th>$\\hat{se}$</th>\n",
       "      <th>$se$</th>\n",
       "      <th>$Boot$</th>\n",
       "      <th>$Ds$</th>\n",
       "    </tr>\n",
       "  </thead>\n",
       "  <tbody>\n",
       "    <tr>\n",
       "      <th>0</th>\n",
       "      <td>31.958209</td>\n",
       "      <td>1.068998</td>\n",
       "      <td>1.195176</td>\n",
       "      <td>33.317165</td>\n",
       "      <td>1.119136</td>\n",
       "    </tr>\n",
       "    <tr>\n",
       "      <th>1</th>\n",
       "      <td>36.159146</td>\n",
       "      <td>1.174392</td>\n",
       "      <td>1.313011</td>\n",
       "      <td>35.294953</td>\n",
       "      <td>1.197533</td>\n",
       "    </tr>\n",
       "    <tr>\n",
       "      <th>2</th>\n",
       "      <td>37.574197</td>\n",
       "      <td>0.736834</td>\n",
       "      <td>1.302335</td>\n",
       "      <td>37.144569</td>\n",
       "      <td>1.547991</td>\n",
       "    </tr>\n",
       "  </tbody>\n",
       "</table>\n",
       "</div>"
      ],
      "text/plain": [
       "    Estimate  $\\hat{se}$      $se$     $Boot$      $Ds$\n",
       "0  31.958209    1.068998  1.195176  33.317165  1.119136\n",
       "1  36.159146    1.174392  1.313011  35.294953  1.197533\n",
       "2  37.574197    0.736834  1.302335  37.144569  1.547991"
      ]
     },
     "execution_count": 48,
     "metadata": {},
     "output_type": "execute_result"
    }
   ],
   "source": [
    "df = pd.DataFrame({\"Estimate\": [EsA[0][0], EsB[0][0], EsC[0][0]], \"$\\hat{se}$\": [se_lgA[0][0], se_lgB[0][0], se_lgC[0][0]], \"$se$\": [se_lbA[0][0], se_lbB[0][0], se_lbC[0][0]], \"$Boot$\": [B[0], B[1], B[2]], \"$Ds$\": [S[0], S[1], S[2]]})\n",
    "df"
   ]
  },
  {
   "cell_type": "markdown",
   "metadata": {},
   "source": [
    "Podemos notar que  desviación estandar de las $\\beta_0$ obtenidas por las muestras Bootstrap, en los tres lotes \n",
    "son una buena aproximación al error estandar insesgado.\n",
    "Sin embargo aparatir de los coeficientes estimados y el error estandar podemos notar que los datos del lote A se encuentran más alejados de los datos B, C. Mientras qeu C se encuntra más cercano a los datos de B. Esto lo pudimos apreciar al efectuar la diferencia de  (Estimate - se ) de la tabla anterior."
   ]
  },
  {
   "cell_type": "markdown",
   "metadata": {},
   "source": [
    "### Histograma del comportamiento de los coeficientes estimados."
   ]
  },
  {
   "cell_type": "code",
   "execution_count": 49,
   "metadata": {},
   "outputs": [
    {
     "data": {
      "image/png": "[encoded data removed]",
      "text/plain": [
       "<Figure size 648x432 with 1 Axes>"
      ]
     },
     "metadata": {
      "needs_background": "light"
     },
     "output_type": "display_data"
    }
   ],
   "source": [
    "fig, ax = plt.subplots(figsize=(9,6))\n",
    "plt.hist(betas_1A,bins=50,alpha=0.5,edgecolor=\"red\", color = \"red\",label=\"LOTE A \")\n",
    "axvline(percentile(betas_1A,2.5),color=\"red\",linestyle=\"--\",linewidth=2)                                                                                                                                                    \n",
    "axvline(percentile(betas_1A,97.5),color=\"red\",linestyle=\"--\",linewidth=2) \n",
    "\n",
    "plt.hist(betas_1B,bins=50,alpha=0.5,edgecolor=\"white\",label=\"LOTE B\") \n",
    "plt.hist(betas_1C,bins=50,alpha=0.5,edgecolor=\"white\",color=\"green\",label=\"LOTE C\")\n",
    "axvline(percentile(betas_1C,2.5),color=\"green\",linestyle=\"--\",linewidth=2)                                                                                                                                                    \n",
    "axvline(percentile(betas_1C,97.5),color=\"green\",linestyle=\"--\",linewidth=2) \n",
    "plt.legend(loc='best')\n",
    "\n",
    "\n",
    "plt.show()"
   ]
  },
  {
   "cell_type": "code",
   "execution_count": 50,
   "metadata": {},
   "outputs": [
    {
     "data": {
      "image/png": "[encoded data removed]",
      "text/plain": [
       "<Figure size 648x432 with 1 Axes>"
      ]
     },
     "metadata": {
      "needs_background": "light"
     },
     "output_type": "display_data"
    }
   ],
   "source": [
    "fig, ax = plt.subplots(figsize=(9,6))\n",
    "plt.hist(betas_0A,bins=50,alpha=0.5,edgecolor=\"red\", color = \"red\",label=\"LOTE A \")\n",
    "axvline(percentile(betas_0A,2.5),color=\"red\",linestyle=\"--\",linewidth=2)                                                                                                                                                    \n",
    "axvline(percentile(betas_0A,97.5),color=\"red\",linestyle=\"--\",linewidth=2) \n",
    "\n",
    "plt.hist(betas_0B,bins=50,alpha=0.5,edgecolor=\"white\",label=\"LOTE B\") \n",
    "plt.hist(betas_0C,bins=50,alpha=0.5,edgecolor=\"white\",color=\"green\",label=\"LOTE C\")\n",
    "axvline(percentile(betas_0C,2.5),color=\"green\",linestyle=\"--\",linewidth=2)                                                                                                                                                    \n",
    "axvline(percentile(betas_0C,97.5),color=\"green\",linestyle=\"--\",linewidth=2) \n",
    "plt.legend(loc='best')\n",
    "\n",
    "\n",
    "plt.show()\n"
   ]
  },
  {
   "cell_type": "markdown",
   "metadata": {},
   "source": [
    "La coparación de los histogramas de los coeficientes B_0 nos muestra que la mayoría de los datos de A se encuentran alejados de la línea de regresión propuesta. Sin embargo  tanto los datos de los lores By C se encuentar ajustados al modelo propuesto.\n",
    "Esto sugiere la falta de precisión del modelo, ya que si este lo fuera, lo que se esperaría ver es que  aproximadamente la mitad de los datos de cada lote debe quedar por encima y la mitad por debajo de la línea ajustada. "
   ]
  }
 ],
 "metadata": {
  "kernelspec": {
   "display_name": "Python 3 (ipykernel)",
   "language": "python",
   "name": "python3"
  },
  "language_info": {
   "codemirror_mode": {
    "name": "ipython",
    "version": 3
   },
   "file_extension": ".py",
   "mimetype": "text/x-python",
   "name": "python",
   "nbconvert_exporter": "python",
   "pygments_lexer": "ipython3",
   "version": "3.8.10"
  }
 },
 "nbformat": 4,
 "nbformat_minor": 4
}
