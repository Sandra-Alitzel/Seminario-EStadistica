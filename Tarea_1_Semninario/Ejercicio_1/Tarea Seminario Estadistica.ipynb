{
 "cells": [
  {
   "cell_type": "code",
   "execution_count": 67,
   "id": "18a55564",
   "metadata": {},
   "outputs": [],
   "source": [
    "import pandas as pd"
   ]
  },
  {
   "cell_type": "code",
   "execution_count": 68,
   "id": "c993fd6f",
   "metadata": {},
   "outputs": [],
   "source": [
    "# Bases de datos de Variables internas y externas\n",
    "\n",
    "base_ini_interna =  pd.read_csv(\"base_ini_interna.csv\", header=0)\n",
    "base_ini_externa =  pd.read_csv(\"base_ini_externa.txt\", sep=\" \", header=0)\n"
   ]
  },
  {
   "cell_type": "code",
   "execution_count": 69,
   "id": "0378ac45",
   "metadata": {},
   "outputs": [],
   "source": [
    "# Bases de datos de inversión\n",
    "\n",
    "base_ini_parte1 =  pd.read_csv(\"base_ini_parte1.csv\", header=0)\n",
    "base_inversion =  pd.read_csv(\"base_inversion.txt\", sep=\" \", header=0)\n"
   ]
  },
  {
   "cell_type": "code",
   "execution_count": 70,
   "id": "ec8cfb0b",
   "metadata": {},
   "outputs": [],
   "source": [
    "# Bases de datos de comportamientos\n",
    "base_comportamiento =  pd.read_csv(\"base_comportamiento_2.txt\", sep=\" \", header=0)\n",
    "base_comportamiento_3 =  pd.read_csv(\"base_comportamiento_3.csv\", header=0)\n",
    "\n",
    "bd_inicio_parte1 =  pd.read_csv(\"bd_inicio_parte1.txt\", sep=\" \", header=0)\n"
   ]
  },
  {
   "cell_type": "code",
   "execution_count": 71,
   "id": "3274a514",
   "metadata": {},
   "outputs": [],
   "source": [
    "# Merge user interna y externa\n",
    "user_base = base_ini_interna.merge(base_ini_externa, how=\"left\", right_on=\"_id_\", left_on=\"_id_\")"
   ]
  },
  {
   "cell_type": "code",
   "execution_count": 72,
   "id": "c13608cb",
   "metadata": {},
   "outputs": [],
   "source": [
    "# Merge inversion\n",
    "user_base = user_base.merge(base_ini_parte1, how=\"left\",  right_on=\"_id_\", left_on=\"_id_\")\n",
    "user_base = user_base.merge(base_inversion, how=\"left\",  right_on=\"_id2_\", left_on=\"_id2_\")"
   ]
  },
  {
   "cell_type": "code",
   "execution_count": 73,
   "id": "a7c7bf04",
   "metadata": {},
   "outputs": [],
   "source": [
    "# Usuarios en tiempo de aparicion \n",
    "tiemp_user = user_base.merge(base_comportamiento, how=\"right\", left_on=\"_id_\", right_on=\"num_caso\")"
   ]
  },
  {
   "cell_type": "code",
   "execution_count": 74,
   "id": "e49875df",
   "metadata": {},
   "outputs": [],
   "source": [
    "# Usuarios en comportamiento  \n",
    "comp_user = user_base.merge(base_comportamiento_3, how=\"right\", left_on=\"_id_\", right_on=\"num_caso\")"
   ]
  },
  {
   "cell_type": "markdown",
   "id": "683b44b6",
   "metadata": {},
   "source": [
    "Para poder entregar un prestamo seria bueno meter las caracteristicas del credito como un input para seleccionar que tipo de modelo/condiciones usar.\n",
    "- Si el credito es de una gran cantidad y alto riesgo, utilizaremos un rango de tiempo más amplio(12-18 meses) en el comportamiento del cliente\n",
    "- Si el credito es de una cantidad menor, por lo que implica bajo riesgo no será necesario usar un rango tan amplio de tiempo, por lo que 6 meses seran suficientes para poder tomar una decisión respecto al credito"
   ]
  },
  {
   "cell_type": "markdown",
   "id": "4e59e14e",
   "metadata": {},
   "source": [
    "Como la información proporcionada no tiene la información hasta el mes actual, \n",
    "aumentaremos 6 meses en el rango para poder obtener informacion"
   ]
  },
  {
   "cell_type": "code",
   "execution_count": 75,
   "id": "480f37cd",
   "metadata": {},
   "outputs": [],
   "source": [
    "# analisis para credito pequeño (ultimos 6 meses) y grande (12 meses)\n",
    "from datetime import datetime, timedelta\n",
    "\n",
    "comp_user[\"mes_informacion\"] = pd.to_datetime(comp_user[\"mes_informacion\"])\n",
    "comp_user[\"mes\"] = comp_user[\"mes_informacion\"].dt.month\n",
    "comp_user[\"anho\"] =  comp_user[\"mes_informacion\"].dt.year\n",
    "\n",
    "current_date = datetime.now()\n",
    "SIX_MONTHS = 6\n",
    "ONE_YEAR = 12\n",
    "\n",
    "# comp_user = comp_user[comp_user[\"anho\"] <= current_date.year - 1]\n",
    "comp_user_6_m = comp_user[(comp_user[\"mes_informacion\"] >= current_date - timedelta(weeks=52)) & \n",
    "                          (comp_user[\"mes_informacion\"] < current_date)]\n",
    "\n",
    "comp_user_12_m = comp_user[(comp_user[\"mes_informacion\"] >= current_date - timedelta(weeks=78)) & \n",
    "                          (comp_user[\"mes_informacion\"] < current_date)]"
   ]
  },
  {
   "cell_type": "code",
   "execution_count": 76,
   "id": "dac91823",
   "metadata": {},
   "outputs": [
    {
     "data": {
      "text/plain": [
       "<AxesSubplot:>"
      ]
     },
     "execution_count": 76,
     "metadata": {},
     "output_type": "execute_result"
    },
    {
     "data": {
      "image/png": "[encoded data removed]",
      "text/plain": [
       "<Figure size 432x288 with 1 Axes>"
      ]
     },
     "metadata": {
      "needs_background": "light"
     },
     "output_type": "display_data"
    }
   ],
   "source": [
    "comp_user_6_m[\"comportamiento_j\"].hist()"
   ]
  },
  {
   "cell_type": "markdown",
   "id": "2b70a88b",
   "metadata": {},
   "source": [
    "Del Histograma anterior se observa que no muchos clientes llegan a tener pagos retrasados, por lo que se puede asumir que una\n",
    "gran cantidad de clientes pueden ser buenos prospectos."
   ]
  },
  {
   "cell_type": "code",
   "execution_count": 77,
   "id": "104b1b87",
   "metadata": {},
   "outputs": [
    {
     "data": {
      "text/plain": [
       "<AxesSubplot:>"
      ]
     },
     "execution_count": 77,
     "metadata": {},
     "output_type": "execute_result"
    },
    {
     "data": {
      "image/png": "[encoded data removed]",
      "text/plain": [
       "<Figure size 432x288 with 1 Axes>"
      ]
     },
     "metadata": {
      "needs_background": "light"
     },
     "output_type": "display_data"
    }
   ],
   "source": [
    "comp_user_12_m[\"comportamiento_j\"].hist()"
   ]
  },
  {
   "cell_type": "markdown",
   "id": "f72f1037",
   "metadata": {},
   "source": [
    "Para los creditos de riesgo mas alto tambien se observa que la muestra tiene pocos clientes con cartera vencida,\n",
    "independiente de esto podriamos decir que actualmente el banco tiene a buenos prospectos como clientes."
   ]
  },
  {
   "cell_type": "markdown",
   "id": "c4eddf52",
   "metadata": {},
   "source": [
    "A contiuación de ambos datasets se filtran aquellos clientes con un comportamiento no deseado"
   ]
  },
  {
   "cell_type": "code",
   "execution_count": 78,
   "id": "28f39fe2",
   "metadata": {},
   "outputs": [],
   "source": [
    "# analisis para credito pequeño (ultimos 6 meses) \n",
    "\n",
    "filter_6 = comp_user_6_m.groupby(by=[\"_id_\"], as_index=False).agg({\"comportamiento_j\": \"mean\"})\n",
    "clients_filter_6 = filter_6[filter_6[\"comportamiento_j\"] < 5]\n",
    "clients_filter_6.columns = [\"_id_\", \"comportamiento_j_avg\"]"
   ]
  },
  {
   "cell_type": "code",
   "execution_count": 79,
   "id": "58a6e792",
   "metadata": {},
   "outputs": [],
   "source": [
    "# analisis para credito pequeño (ultimos 12 meses) \n",
    "\n",
    "filter_12 = comp_user_12_m.groupby(by=[\"_id_\"], as_index=False).agg({\"comportamiento_j\": \"mean\"})\n",
    "clients_filter_12 = filter_12[filter_12[\"comportamiento_j\"] < 9]\n",
    "clients_filter_12.columns = [\"_id_\", \"comportamiento_j_avg\"]"
   ]
  },
  {
   "cell_type": "markdown",
   "id": "3a224be3",
   "metadata": {},
   "source": [
    "De estos dos datasets podemos filtrar en la base de datos `comp_user_6_m` y `comp_user_12_m` que contiene toda la información: base de datos interna, externa e inversion"
   ]
  },
  {
   "cell_type": "code",
   "execution_count": 80,
   "id": "af981e8f",
   "metadata": {},
   "outputs": [],
   "source": [
    "clients_6_month_analysis = comp_user_6_m.merge(clients_filter_6, how=\"right\", left_on=\"_id_\", right_on=\"_id_\")\n",
    "clients_12_month_analysis = comp_user_12_m.merge(clients_filter_12, how=\"right\", left_on=\"_id_\", right_on=\"_id_\")"
   ]
  },
  {
   "cell_type": "markdown",
   "id": "47c2606b",
   "metadata": {},
   "source": [
    "Despues de este analisis podemos seguir filtrando en funcion de las variables de inversion, si el prospecto tiene\n",
    "componentes externos que demuestren que tiene otro credito, si internamente cuenta con saldo en su cuenta.\n",
    "\n",
    "Las variables categoricas por ahora podrian ser removidas hasta determinar si son utiles, en todo caso se podria hacer un encoder para poder asignarles un valor númerico.\n",
    "\n",
    "La base de datos también contiene valores N/A para alguna filas, de manera \"fácil\" podriamos remover esas columnas \n",
    "pero eliminar datos de un dataframe no es del todo idea y mucho menos si nuestro conjunto es muy pequeño, lo estariamos reduciendo aun más. Por lo que seria recomendable hacer una imputación de los datos aunque esta sea muy basica como el valor promedio de la columna.\n"
   ]
  },
  {
   "cell_type": "code",
   "execution_count": 81,
   "id": "382bd1b4",
   "metadata": {},
   "outputs": [],
   "source": [
    "from sklearn.impute import SimpleImputer\n",
    "\n",
    "cols_with_missing = [col for col in clients_6_month_analysis.columns\n",
    "                     if clients_6_month_analysis[col].isnull().any()]\n",
    "\n",
    "imputer = SimpleImputer(strategy='median')\n",
    "dataset_imputed = pd.DataFrame(imputer.fit_transform(clients_6_month_analysis[cols_with_missing]))\n",
    "\n",
    "dataset_imputed.columns = cols_with_missing\n",
    "\n",
    "dataset_imputed.drop(cols_with_missing, axis=1, inplace=True)\n",
    "clients_6_month_analysis = pd.concat([clients_6_month_analysis, dataset_imputed], axis=1)\n"
   ]
  },
  {
   "cell_type": "code",
   "execution_count": 82,
   "id": "889df8d7",
   "metadata": {},
   "outputs": [],
   "source": [
    "from sklearn.preprocessing import OneHotEncoder\n",
    "\n",
    "cat_cols = [\"comp_interno2\"]\n",
    "oh_encoder = OneHotEncoder(handle_unknown='ignore', sparse=False)\n",
    "\n",
    "oh_dataset = pd.DataFrame(oh_encoder.fit_transform(clients_6_month_analysis[cat_cols]))\n",
    "oh_dataset.index = clients_6_month_analysis.index\n",
    "oh_dataset.columns = oh_encoder.get_feature_names(cat_cols)\n",
    "\n",
    "clients_6_month_analysis.drop(cat_cols, axis=1, inplace=True)\n",
    "clients_6_month_analysis = pd.concat([clients_6_month_analysis, oh_dataset], axis=1)\n"
   ]
  },
  {
   "cell_type": "markdown",
   "id": "675c1976",
   "metadata": {},
   "source": [
    "En las dos celdas anteriores se hizo imputación para aquellas columnas con valores vacios y para la columna con valor categorico se le aplico un encoder para poder obtener un valor numerico.\n",
    "De tal manera el dataset ya no cuenta con valores vacios o categoricos.\n"
   ]
  }
 ],
 "metadata": {
  "kernelspec": {
   "display_name": "Python 3 (ipykernel)",
   "language": "python",
   "name": "python3"
  },
  "language_info": {
   "codemirror_mode": {
    "name": "ipython",
    "version": 3
   },
   "file_extension": ".py",
   "mimetype": "text/x-python",
   "name": "python",
   "nbconvert_exporter": "python",
   "pygments_lexer": "ipython3",
   "version": "3.8.7"
  }
 },
 "nbformat": 4,
 "nbformat_minor": 5
}
