{
 "cells": [
  {
   "cell_type": "code",
   "execution_count": 1,
   "metadata": {},
   "outputs": [],
   "source": [
    "from pylab import*\n",
    "import numpy as np\n",
    "import scipy.stats \n",
    "from scipy.special import gamma\n",
    "import seaborn as sns\n",
    "from scipy.stats import beta\n",
    "from scipy.stats import spearmanr\n",
    "import pandas as pd\n",
    "from sklearn import linear_model"
   ]
  },
  {
   "cell_type": "code",
   "execution_count": 7,
   "metadata": {},
   "outputs": [],
   "source": [
    "ruta = \"/Users/Ralmw/Documents/Clases/Machine Learning/Tarea 1/Tarea 1/\"\n",
    "bd=\"lineal_horm.xlsx\"\n",
    "bd_horm=pd.read_excel(ruta+bd)"
   ]
  },
  {
   "cell_type": "markdown",
   "metadata": {},
   "source": [
    "## Calculamos los errores estandar de las betas del modelo lineal ##\n",
    "\n",
    "Estamos considerando la base completa para el cálculo de los errores estandar."
   ]
  },
  {
   "cell_type": "code",
   "execution_count": 26,
   "metadata": {},
   "outputs": [
    {
     "name": "stderr",
     "output_type": "stream",
     "text": [
      "<ipython-input-26-c3ddc008e1f3>:15: RuntimeWarning: invalid value encountered in sqrt\n",
      "  rootG = sqrt(invG)\n"
     ]
    },
    {
     "data": {
      "text/html": [
       "<div>\n",
       "<style scoped>\n",
       "    .dataframe tbody tr th:only-of-type {\n",
       "        vertical-align: middle;\n",
       "    }\n",
       "\n",
       "    .dataframe tbody tr th {\n",
       "        vertical-align: top;\n",
       "    }\n",
       "\n",
       "    .dataframe thead th {\n",
       "        text-align: right;\n",
       "    }\n",
       "</style>\n",
       "<table border=\"1\" class=\"dataframe\">\n",
       "  <thead>\n",
       "    <tr style=\"text-align: right;\">\n",
       "      <th></th>\n",
       "      <th>Estimate</th>\n",
       "      <th>$\\hat{se}$</th>\n",
       "      <th>$se$</th>\n",
       "    </tr>\n",
       "  </thead>\n",
       "  <tbody>\n",
       "    <tr>\n",
       "      <th>0</th>\n",
       "      <td>34.167528</td>\n",
       "      <td>0.834461</td>\n",
       "      <td>0.867197</td>\n",
       "    </tr>\n",
       "    <tr>\n",
       "      <th>1</th>\n",
       "      <td>-0.057446</td>\n",
       "      <td>0.004296</td>\n",
       "      <td>0.004464</td>\n",
       "    </tr>\n",
       "  </tbody>\n",
       "</table>\n",
       "</div>"
      ],
      "text/plain": [
       "    Estimate  $\\hat{se}$      $se$\n",
       "0  34.167528    0.834461  0.867197\n",
       "1  -0.057446    0.004296  0.004464"
      ]
     },
     "execution_count": 26,
     "metadata": {},
     "output_type": "execute_result"
    }
   ],
   "source": [
    "# Entrenamos un modelo lineal tomando en cuanta todos los datos\n",
    "bd_random = bd_horm.sample(n=27,replace=False)\n",
    "reg = linear_model.LinearRegression()\n",
    "X = bd_random[[\"horas\"]]\n",
    "y = bd_random[[\"monto\"]]\n",
    "reg.fit(X, y)\n",
    "\n",
    "# Calculamos la matriz G utilizada para obtener las betas en el método de mínimos cuadrados\n",
    "d = bd_random[[\"horas\"]]\n",
    "d.index = list(range(d.shape[0]))\n",
    "c = pd.DataFrame( {\"otro\": [1 for i in range(d.shape[0])] } )\n",
    "mat = pd.concat([c, d], axis=1)\n",
    "mat = mat.to_numpy()\n",
    "mat = np.asmatrix(mat)\n",
    "\n",
    "G = np.matmul(mat.transpose(), mat)\n",
    "invG=np.linalg.inv(G)\n",
    "rootG = sqrt(invG)\n",
    "\n",
    "# Obtenemos los coeficientes encontrados al entrenar el modelo lineal\n",
    "b1=reg.coef_\n",
    "b0=reg.intercept_\n",
    "estimate = np.array([np.append(b0,b1)])\n",
    "Es = estimate.tolist()\n",
    "\n",
    "# Calculamos los residuales\n",
    "Y_pred = reg.predict(X) \n",
    "y_estim=Y_pred.reshape(-1)\n",
    "x=X.to_numpy().reshape(-1)\n",
    "y_real=y.to_numpy()\n",
    "y_real=y_real.reshape(-1)\n",
    "y_real\n",
    "n=len(y_real)\n",
    "residual=y_real-y_estim\n",
    "\n",
    "# Calculamos los errores\n",
    "residual_cua = residual ** 2\n",
    "prom_residual = mean(residual_cua)\n",
    "sigma_gorro = sqrt(prom_residual)\n",
    "se_gorro= sigma_gorro * rootG\n",
    "se_gorroD=se_gorro.diagonal()\n",
    "\n",
    "se_lg = se_gorroD.tolist()\n",
    "\n",
    "np_residual = sum(residual_cua)/(d.shape[0]-2)\n",
    "sigma_barra = sqrt(np_residual)\n",
    "se_barra= sigma_barra * rootG\n",
    "se_barraD=se_barra.diagonal()\n",
    "\n",
    "se_lb = se_barraD.tolist()\n",
    "\n",
    "a = pd.DataFrame(se_gorroD)\n",
    "\n",
    "# Almacenamos tanto los errores estandar como los errores estandar insesgados de las betas en un dataframe\n",
    "df = pd.DataFrame({\"Estimate\": [Es[0][0], Es[0][1]], \"$\\hat{se}$\": [se_lg[0][0], se_lg[0][1]], \"$se$\": [se_lb[0][0], se_lb[0][1]]})\n",
    "df"
   ]
  },
  {
   "cell_type": "markdown",
   "metadata": {},
   "source": [
    "## Bootstrap. Ejercicio 2.b ##\n",
    "una vez que ya sabemos cuales son los erroes estandar de las $\\beta$ podemos comparar el resultado usando Bootstrap. \n",
    "\n",
    "Entrenaremos 1000 modelos lineales tomando muestras de tamaño 10 de bd_horm y haremos histogramas de los valores obtenidos."
   ]
  },
  {
   "cell_type": "code",
   "execution_count": 49,
   "metadata": {},
   "outputs": [],
   "source": [
    "betas_0 = np.array([])\n",
    "betas_1 = np.array([])\n",
    "\n",
    "for i in range(10000):\n",
    "    # toma muestra\n",
    "    bd_random = bd_horm.sample(n=10,replace=True)\n",
    "    reg = linear_model.LinearRegression()\n",
    "    X = bd_random[[\"horas\"]]\n",
    "    y = bd_random[[\"monto\"]]\n",
    "   \n",
    "    # entrena el modelo lineal\n",
    "    reg.fit(X, y)\n",
    "    \n",
    "    # almacena las betas\n",
    "    b1=reg.coef_\n",
    "    b0=reg.intercept_\n",
    "    \n",
    "    betas_0 = np.append(betas_0, b0)\n",
    "    betas_1 = np.append(betas_1, b1)\n"
   ]
  },
  {
   "cell_type": "code",
   "execution_count": 76,
   "metadata": {},
   "outputs": [
    {
     "data": {
      "image/png": "[encoded data removed]",
      "text/plain": [
       "<Figure size 648x432 with 1 Axes>"
      ]
     },
     "metadata": {
      "needs_background": "light"
     },
     "output_type": "display_data"
    },
    {
     "name": "stdout",
     "output_type": "stream",
     "text": [
      "La beta_1 estimada sin Bootstrap: -0.054087200583583475\n",
      "Promedio de beta_1 de la muestras Bootstrap: -0.05938181404313566\n",
      "( -0.0825034741331861 , -0.04500400629072441 )\n",
      "La desviación estandar de las beta_1 obtenidas por las muestras Bootstrap es: 0.009363277538293604\n",
      "Que resulta ser una buena aproximación al error estandar incesgado obtenido arriba de: 0.006462496329548346\n"
     ]
    }
   ],
   "source": [
    "fig, ax = plt.subplots(figsize=(9,6))\n",
    "hist(betas_1,bins=50,alpha=0.5,edgecolor=\"white\",label=\"b_1 Boostrap\")\n",
    "axvline(x=df.iloc[1,0],color='green', linestyle='--',linewidth=3,label=\"b_1 con regresión\")\n",
    "axvline(x=np.mean(betas_1),color='black', linestyle='--',linewidth=3,label=\"Promedio de b_1 con Boostrap\")\n",
    "\n",
    "axvline(percentile(betas_1,2.5),color=\"blue\",linestyle=\"--\",linewidth=2)                                                                                                                                                    \n",
    "axvline(percentile(betas_1,97.5),color=\"blue\",linestyle=\"--\",linewidth=2) \n",
    "plt.legend(loc='best')\n",
    "show()\n",
    "print(\"La beta_1 estimada sin Bootstrap:\", df.iloc[1,0])\n",
    "print(\"Promedio de beta_1 de la muestras Bootstrap:\", np.mean(betas_1))\n",
    "print(\"(\", percentile(betas_1,2.5),\",\",percentile(betas_1,97.5),\")\")\n",
    "print(\"La desviación estandar de las beta_1 obtenidas por las muestras Bootstrap es:\", np.std(betas_1))\n",
    "print(\"Que resulta ser una buena aproximación al error estandar incesgado obtenido arriba de:\", df.iloc[1,2])"
   ]
  },
  {
   "cell_type": "code",
   "execution_count": 77,
   "metadata": {},
   "outputs": [
    {
     "data": {
      "image/png": "[encoded data removed]",
      "text/plain": [
       "<Figure size 648x432 with 1 Axes>"
      ]
     },
     "metadata": {
      "needs_background": "light"
     },
     "output_type": "display_data"
    },
    {
     "name": "stdout",
     "output_type": "stream",
     "text": [
      "La beta_0 estimada sin Bootstrap: 33.30976979490759\n",
      "Promedio de beta_0 de la muestras Bootstrap: 34.36978464555488\n",
      "( 31.543567659575775 , 37.28237729797438 )\n",
      "La desviación estandar de las beta_0 obtenidas por las muestras Bootstrap es: 1.4411328537593504\n",
      "Que resulta ser una buena aproximación al error estandar incesgado obtenido arriba de: 1.456849364208206\n"
     ]
    }
   ],
   "source": [
    "fig, ax = plt.subplots(figsize=(9,6))\n",
    "hist(betas_0,bins=50,alpha=0.5,edgecolor=\"white\",label=\"b_0 Boostrap\")\n",
    "axvline(x=df.iloc[0,0],color='green', linestyle='--',linewidth=3,label=\"b_0 con regresión\")\n",
    "axvline(x=np.mean(betas_0),color='black', linestyle='--',linewidth=3,label=\"Promedio de b_0 con Boostrap\")\n",
    "\n",
    "axvline(percentile(betas_0,2.5),color=\"blue\",linestyle=\"--\",linewidth=2)                                                                                                                                                    \n",
    "axvline(percentile(betas_0,97.5),color=\"blue\",linestyle=\"--\",linewidth=2) \n",
    "plt.legend(loc='best')\n",
    "show()\n",
    "print(\"La beta_0 estimada sin Bootstrap:\", df.iloc[0,0])\n",
    "print(\"Promedio de beta_0 de la muestras Bootstrap:\", np.mean(betas_0))\n",
    "print(\"(\", percentile(betas_0,2.5),\",\",percentile(betas_0,97.5),\")\")\n",
    "print(\"La desviación estandar de las beta_0 obtenidas por las muestras Bootstrap es:\", np.std(betas_0))\n",
    "print(\"Que resulta ser una buena aproximación al error estandar incesgado obtenido arriba de:\", df.iloc[0,2])"
   ]
  },
  {
   "cell_type": "markdown",
   "metadata": {},
   "source": [
    "Con Boostrap hemos podido confirmar que los errores estandar que habíamos calculados son correctos. Podemos ver además que las betas encontradas por el modelo lineal son buenas comparadas con las que podemos encontrar con Bootstrap. Esto nos permite afirmar que el modelo lineal entrenado con toda la muestra es razonablemente bueno."
   ]
  },
  {
   "cell_type": "markdown",
   "metadata": {},
   "source": [
    "## Método de Jackknife. Ejercicio 3 ##\n",
    "\n",
    "El método de Jackknife consiste en, si tenemos una muestra de tamaño n, hacemos los calculos deseados en todas las diferentes muestras de tamaño n-1 que podemos obtener de esa muestra y luego promediando. Como nuestra base es de tamaño 27, entrenaremos 26 modelos lineales diferentes y obtendemos las betas correspondientes."
   ]
  },
  {
   "cell_type": "code",
   "execution_count": 4,
   "metadata": {},
   "outputs": [],
   "source": [
    "betas_0_2 = np.array([])\n",
    "betas_1_2 = np.array([])\n",
    "\n",
    "for i in range(27):\n",
    "    # Toma una copia de nuestra base\n",
    "    bd_j = bd_horm.copy(deep=True)\n",
    "    \n",
    "    # Elimina el elemento i-ésimo \n",
    "    bd_j = bd_j.drop(i)\n",
    "    \n",
    "    # Entrena el modelo lineal\n",
    "    reg = linear_model.LinearRegression()\n",
    "    X = bd_j[[\"horas\"]]\n",
    "    y = bd_j[[\"monto\"]]\n",
    "    reg.fit(X, y)\n",
    "    \n",
    "    # Almacena las betas\n",
    "    b1=reg.coef_\n",
    "    b0=reg.intercept_\n",
    "    \n",
    "    betas_0_2 = np.append(betas_0_2, b0)\n",
    "    betas_1_2 = np.append(betas_1_2, b1)\n"
   ]
  },
  {
   "cell_type": "code",
   "execution_count": 28,
   "metadata": {},
   "outputs": [
    {
     "data": {
      "image/png": "[encoded data removed]",
      "text/plain": [
       "<Figure size 648x432 with 1 Axes>"
      ]
     },
     "metadata": {
      "needs_background": "light"
     },
     "output_type": "display_data"
    },
    {
     "name": "stdout",
     "output_type": "stream",
     "text": [
      "La beta_1 estimada : -0.05744629869763768\n",
      "Promedio de beta_1 de la muestras Jackknife: -0.05746541663726216\n",
      "( -0.059166224479710046 , -0.05639510703109931 )\n",
      "La desviación estandar de las beta_1 obtenidas por las muestras Jackknife es: 0.0008295067973265166\n",
      "Que podemos comprar con el error estandar incesgado obtenido arriba de: 0.004464173160311538\n"
     ]
    }
   ],
   "source": [
    "fig, ax = plt.subplots(figsize=(9,6))\n",
    "hist(betas_1_2,bins=50,alpha=0.5,edgecolor=\"white\",label=\"b_1 Jackknife\")\n",
    "axvline(x=df.iloc[1,0],color='green', linestyle='--',linewidth=3,label=\"b_1 con regresión\")\n",
    "axvline(x=np.mean(betas_1_2),color='black', linestyle='--',linewidth=3,label=\"Promedio de b_1 con Jackknife\")\n",
    "\n",
    "axvline(percentile(betas_1_2,2.5),color=\"blue\",linestyle=\"--\",linewidth=2)                                                                                                                                                    \n",
    "axvline(percentile(betas_1_2,97.5),color=\"blue\",linestyle=\"--\",linewidth=2) \n",
    "plt.legend(loc='best')\n",
    "show()\n",
    "print(\"La beta_1 estimada :\", df.iloc[1,0])\n",
    "print(\"Promedio de beta_1 de la muestras Jackknife:\", np.mean(betas_1_2) )\n",
    "print(\"(\", percentile(betas_1_2,2.5),\",\",percentile(betas_1_2,97.5),\")\")\n",
    "print(\"La desviación estandar de las beta_1 obtenidas por las muestras Jackknife es:\", np.std(betas_1_2))\n",
    "print(\"Que podemos comparar con el error estandar incesgado obtenido arriba de:\", df.iloc[1,2])"
   ]
  },
  {
   "cell_type": "code",
   "execution_count": 29,
   "metadata": {},
   "outputs": [
    {
     "data": {
      "image/png": "[encoded data removed]",
      "text/plain": [
       "<Figure size 648x432 with 1 Axes>"
      ]
     },
     "metadata": {
      "needs_background": "light"
     },
     "output_type": "display_data"
    },
    {
     "name": "stdout",
     "output_type": "stream",
     "text": [
      "La beta_0 estimada: 34.16752817399911\n",
      "Promedio de beta_0 de la muestras Jackknife: 34.16940563185412\n",
      "( 33.93437461632944 , 34.45497884078263 )\n",
      "La desviación estandar de las beta_0 obtenidas por el método de Jackknife es: 0.14355439158789238\n",
      "Que ahora podemos comparar con el error estandar incesgado obtenido arriba de: 0.8671972620941916\n"
     ]
    }
   ],
   "source": [
    "fig, ax = plt.subplots(figsize=(9,6))\n",
    "hist(betas_0_2,bins=50,alpha=0.5,edgecolor=\"white\",label=\"b_0 Jackknife\")\n",
    "axvline(x=df.iloc[0,0],color='green', linestyle='--',linewidth=3,label=\"b_0 con regresión\")\n",
    "axvline(x=np.mean(betas_0_2),color='black', linestyle='--',linewidth=3,label=\"Promedio de b_0 con Jackknife\")\n",
    "\n",
    "axvline(percentile(betas_0_2,2.5),color=\"blue\",linestyle=\"--\",linewidth=2)                                                                                                                                                    \n",
    "axvline(percentile(betas_0_2,97.5),color=\"blue\",linestyle=\"--\",linewidth=2) \n",
    "plt.legend(loc='best')\n",
    "show()\n",
    "print(\"La beta_0 estimada:\", df.iloc[0,0])\n",
    "print(\"Promedio de beta_0 de la muestras Jackknife:\", np.mean(betas_0_2))\n",
    "print(\"(\", percentile(betas_0_2,2.5),\",\",percentile(betas_0_2,97.5),\")\")\n",
    "print(\"La desviación estandar de las beta_0 obtenidas por el método de Jackknife es:\", np.std(betas_0_2))\n",
    "print(\"Que ahora podemos comparar con el error estandar incesgado obtenido arriba de:\", df.iloc[0,2])"
   ]
  },
  {
   "cell_type": "markdown",
   "metadata": {},
   "source": [
    "Los errores encontrados con el método de Jackknife no se acercan a los reales. De igual manera, si solamente observamos los histogramas es dificil darse una idea de lo adecuada de nuestra estimación. La principal limitante es el tan pequeño tamaño de la muestra. Es posible que con bases de datos más grande de mejores resultados pero definitivamente Bootstrap nos da errores estandar mucho más cercanos a los reales."
   ]
  }
 ],
 "metadata": {
  "kernelspec": {
   "display_name": "Python 3",
   "language": "python",
   "name": "python3"
  },
  "language_info": {
   "codemirror_mode": {
    "name": "ipython",
    "version": 3
   },
   "file_extension": ".py",
   "mimetype": "text/x-python",
   "name": "python",
   "nbconvert_exporter": "python",
   "pygments_lexer": "ipython3",
   "version": "3.8.3"
  }
 },
 "nbformat": 4,
 "nbformat_minor": 4
}
