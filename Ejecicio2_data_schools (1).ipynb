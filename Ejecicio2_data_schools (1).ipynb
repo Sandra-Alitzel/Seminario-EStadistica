{
 "cells": [
  {
   "cell_type": "markdown",
   "id": "69ac38dc",
   "metadata": {},
   "source": [
    "Corrección del ejercicio 2."
   ]
  },
  {
   "cell_type": "code",
   "execution_count": 1,
   "id": "50Xre5PhOfze",
   "metadata": {
    "id": "50Xre5PhOfze"
   },
   "outputs": [],
   "source": [
    "from pylab import*"
   ]
  },
  {
   "cell_type": "code",
   "execution_count": 2,
   "id": "WY-YZmPxOfzm",
   "metadata": {
    "id": "WY-YZmPxOfzm"
   },
   "outputs": [],
   "source": [
    "import numpy as np\n",
    "import scipy.stats\n",
    "import seaborn as sns\n",
    "from scipy.special import gamma\n",
    "from scipy.stats import beta\n",
    "from scipy.stats import spearmanr"
   ]
  },
  {
   "cell_type": "code",
   "execution_count": 3,
   "id": "rLLnzQyxOfzn",
   "metadata": {
    "id": "rLLnzQyxOfzn"
   },
   "outputs": [],
   "source": [
    "import pandas as pd"
   ]
  },
  {
   "cell_type": "code",
   "execution_count": 4,
   "id": "XUCDWqmeOfzo",
   "metadata": {
    "id": "XUCDWqmeOfzo"
   },
   "outputs": [],
   "source": [
    "ruta = \"/home/sandra/Documents/Tarea_1_Semninario/Ejercicio_2_3/Ejercicio_Base_data_schools/\""
   ]
  },
  {
   "cell_type": "code",
   "execution_count": 5,
   "id": "hMmgmEUpOfzo",
   "metadata": {
    "id": "hMmgmEUpOfzo"
   },
   "outputs": [],
   "source": [
    "bd = \"data_schools.xlsx\""
   ]
  },
  {
   "cell_type": "code",
   "execution_count": 6,
   "id": "WHwAVAItOfzp",
   "metadata": {
    "id": "WHwAVAItOfzp",
    "outputId": "10f004a1-35ed-445a-9889-977936dde122"
   },
   "outputs": [
    {
     "data": {
      "text/html": [
       "<div>\n",
       "<style scoped>\n",
       "    .dataframe tbody tr th:only-of-type {\n",
       "        vertical-align: middle;\n",
       "    }\n",
       "\n",
       "    .dataframe tbody tr th {\n",
       "        vertical-align: top;\n",
       "    }\n",
       "\n",
       "    .dataframe thead th {\n",
       "        text-align: right;\n",
       "    }\n",
       "</style>\n",
       "<table border=\"1\" class=\"dataframe\">\n",
       "  <thead>\n",
       "    <tr style=\"text-align: right;\">\n",
       "      <th></th>\n",
       "      <th>escuela</th>\n",
       "      <th>LSAT</th>\n",
       "      <th>GPA</th>\n",
       "    </tr>\n",
       "  </thead>\n",
       "  <tbody>\n",
       "    <tr>\n",
       "      <th>0</th>\n",
       "      <td>1</td>\n",
       "      <td>622</td>\n",
       "      <td>3.23</td>\n",
       "    </tr>\n",
       "    <tr>\n",
       "      <th>1</th>\n",
       "      <td>2</td>\n",
       "      <td>542</td>\n",
       "      <td>2.83</td>\n",
       "    </tr>\n",
       "    <tr>\n",
       "      <th>2</th>\n",
       "      <td>3</td>\n",
       "      <td>579</td>\n",
       "      <td>3.24</td>\n",
       "    </tr>\n",
       "    <tr>\n",
       "      <th>3</th>\n",
       "      <td>4</td>\n",
       "      <td>653</td>\n",
       "      <td>3.12</td>\n",
       "    </tr>\n",
       "    <tr>\n",
       "      <th>4</th>\n",
       "      <td>5</td>\n",
       "      <td>606</td>\n",
       "      <td>3.09</td>\n",
       "    </tr>\n",
       "    <tr>\n",
       "      <th>...</th>\n",
       "      <td>...</td>\n",
       "      <td>...</td>\n",
       "      <td>...</td>\n",
       "    </tr>\n",
       "    <tr>\n",
       "      <th>77</th>\n",
       "      <td>78</td>\n",
       "      <td>590</td>\n",
       "      <td>3.15</td>\n",
       "    </tr>\n",
       "    <tr>\n",
       "      <th>78</th>\n",
       "      <td>79</td>\n",
       "      <td>558</td>\n",
       "      <td>2.81</td>\n",
       "    </tr>\n",
       "    <tr>\n",
       "      <th>79</th>\n",
       "      <td>80</td>\n",
       "      <td>611</td>\n",
       "      <td>3.16</td>\n",
       "    </tr>\n",
       "    <tr>\n",
       "      <th>80</th>\n",
       "      <td>81</td>\n",
       "      <td>564</td>\n",
       "      <td>3.02</td>\n",
       "    </tr>\n",
       "    <tr>\n",
       "      <th>81</th>\n",
       "      <td>82</td>\n",
       "      <td>575</td>\n",
       "      <td>2.74</td>\n",
       "    </tr>\n",
       "  </tbody>\n",
       "</table>\n",
       "<p>82 rows × 3 columns</p>\n",
       "</div>"
      ],
      "text/plain": [
       "    escuela  LSAT   GPA\n",
       "0         1   622  3.23\n",
       "1         2   542  2.83\n",
       "2         3   579  3.24\n",
       "3         4   653  3.12\n",
       "4         5   606  3.09\n",
       "..      ...   ...   ...\n",
       "77       78   590  3.15\n",
       "78       79   558  2.81\n",
       "79       80   611  3.16\n",
       "80       81   564  3.02\n",
       "81       82   575  2.74\n",
       "\n",
       "[82 rows x 3 columns]"
      ]
     },
     "execution_count": 6,
     "metadata": {},
     "output_type": "execute_result"
    }
   ],
   "source": [
    "bd_escuelas = pd.read_excel(ruta+bd)\n",
    "bd_escuelas"
   ]
  },
  {
   "cell_type": "markdown",
   "id": "pvbcirh0Ofzq",
   "metadata": {
    "id": "pvbcirh0Ofzq"
   },
   "source": [
    " Medir la precisión de un estimador, de un índíce , de un estadistico que nos interesa. Vamos a medir la precisión utilizando el error estándar. "
   ]
  },
  {
   "cell_type": "markdown",
   "id": "zRIhQhyZOfzt",
   "metadata": {
    "id": "zRIhQhyZOfzt"
   },
   "source": [
    "Datos de escuelas que se seleccionaron al azar, prueba nacional que se calcula en función a puntajes, y calcularón el promedio de puntajes que se obtuvo al hacer esa prueba. Internamente la escuel. Se QUIERE MEDIR LA CORRELACIÓN ENTRE UN PUNTAJE Y OTRO. "
   ]
  },
  {
   "cell_type": "code",
   "execution_count": 7,
   "id": "V1-E0qqIOfzu",
   "metadata": {
    "id": "V1-E0qqIOfzu",
    "outputId": "95b5bbb3-a5c8-4214-9fe6-a497e36edc7e"
   },
   "outputs": [
    {
     "data": {
      "text/html": [
       "<div>\n",
       "<style scoped>\n",
       "    .dataframe tbody tr th:only-of-type {\n",
       "        vertical-align: middle;\n",
       "    }\n",
       "\n",
       "    .dataframe tbody tr th {\n",
       "        vertical-align: top;\n",
       "    }\n",
       "\n",
       "    .dataframe thead th {\n",
       "        text-align: right;\n",
       "    }\n",
       "</style>\n",
       "<table border=\"1\" class=\"dataframe\">\n",
       "  <thead>\n",
       "    <tr style=\"text-align: right;\">\n",
       "      <th></th>\n",
       "      <th>escuela</th>\n",
       "    </tr>\n",
       "  </thead>\n",
       "  <tbody>\n",
       "    <tr>\n",
       "      <th>37</th>\n",
       "      <td>38</td>\n",
       "    </tr>\n",
       "    <tr>\n",
       "      <th>51</th>\n",
       "      <td>52</td>\n",
       "    </tr>\n",
       "    <tr>\n",
       "      <th>75</th>\n",
       "      <td>76</td>\n",
       "    </tr>\n",
       "    <tr>\n",
       "      <th>5</th>\n",
       "      <td>6</td>\n",
       "    </tr>\n",
       "    <tr>\n",
       "      <th>73</th>\n",
       "      <td>74</td>\n",
       "    </tr>\n",
       "    <tr>\n",
       "      <th>21</th>\n",
       "      <td>22</td>\n",
       "    </tr>\n",
       "    <tr>\n",
       "      <th>57</th>\n",
       "      <td>58</td>\n",
       "    </tr>\n",
       "    <tr>\n",
       "      <th>10</th>\n",
       "      <td>11</td>\n",
       "    </tr>\n",
       "    <tr>\n",
       "      <th>35</th>\n",
       "      <td>36</td>\n",
       "    </tr>\n",
       "    <tr>\n",
       "      <th>39</th>\n",
       "      <td>40</td>\n",
       "    </tr>\n",
       "    <tr>\n",
       "      <th>47</th>\n",
       "      <td>48</td>\n",
       "    </tr>\n",
       "    <tr>\n",
       "      <th>68</th>\n",
       "      <td>69</td>\n",
       "    </tr>\n",
       "    <tr>\n",
       "      <th>61</th>\n",
       "      <td>62</td>\n",
       "    </tr>\n",
       "    <tr>\n",
       "      <th>76</th>\n",
       "      <td>77</td>\n",
       "    </tr>\n",
       "    <tr>\n",
       "      <th>36</th>\n",
       "      <td>37</td>\n",
       "    </tr>\n",
       "  </tbody>\n",
       "</table>\n",
       "</div>"
      ],
      "text/plain": [
       "    escuela\n",
       "37       38\n",
       "51       52\n",
       "75       76\n",
       "5         6\n",
       "73       74\n",
       "21       22\n",
       "57       58\n",
       "10       11\n",
       "35       36\n",
       "39       40\n",
       "47       48\n",
       "68       69\n",
       "61       62\n",
       "76       77\n",
       "36       37"
      ]
     },
     "execution_count": 7,
     "metadata": {},
     "output_type": "execute_result"
    }
   ],
   "source": [
    "#Seleccionamos aleatoriamente 15 escuelas\n",
    "escuelas_random= bd_escuelas.sample(n=15, random_state=9998)[[\"escuela\"]]\n",
    "escuelas_random"
   ]
  },
  {
   "cell_type": "markdown",
   "id": "877a1ec7",
   "metadata": {},
   "source": [
    "Corrimos 10000 muestras boostrap para estimar el error estándar de  la correlación de la base."
   ]
  },
  {
   "cell_type": "code",
   "execution_count": 8,
   "id": "a7cbe185",
   "metadata": {
    "scrolled": false
   },
   "outputs": [],
   "source": [
    "corrs = np.array([])\n",
    "\n",
    "for i in range(5000):\n",
    "        #Seleccionamos aleatoriamente 15 escuelas\n",
    "        escuelas_random= bd_escuelas.sample(n=15)[[\"escuela\"]]\n",
    "\n",
    "        escuelas_random = pd.merge(escuelas_random , bd_escuelas, how=\"left\", on=[\"escuela\"])\n",
    "\n",
    "        corr,_= spearmanr(escuelas_random.LSAT, escuelas_random.GPA)\n",
    "        corrs = np.append(corrs, corr)"
   ]
  },
  {
   "cell_type": "markdown",
   "id": "75817693",
   "metadata": {},
   "source": [
    "A continuación se muestra el histograma de las correlaciones obtenidas de las 10,000 muestras bootstrap"
   ]
  },
  {
   "cell_type": "code",
   "execution_count": 9,
   "id": "9711c0c5",
   "metadata": {},
   "outputs": [
    {
     "data": {
      "image/png": "[encoded data removed]",
      "text/plain": [
       "<Figure size 432x288 with 1 Axes>"
      ]
     },
     "metadata": {
      "needs_background": "light"
     },
     "output_type": "display_data"
    }
   ],
   "source": [
    "plt.hist(corrs, bins=30)\n",
    "plt.show()"
   ]
  },
  {
   "cell_type": "markdown",
   "id": "7f770dd4",
   "metadata": {},
   "source": [
    "En el sigueinte código se encontra la N para la cual el error estándar es mejor, es decir el número de muestras bootstrap para el  cuál el error estándar es más chico. Para ella caculamos los errores estandar de las muestras desde 10 hasta 10000, y gráficamos los errores estándar obtenidos."
   ]
  },
  {
   "cell_type": "code",
   "execution_count": null,
   "id": "b7b2ed2c",
   "metadata": {},
   "outputs": [],
   "source": [
    "\n",
    "dist = np.array([])\n",
    "for j in range(20,1000,20):\n",
    "  \n",
    "    corrs = np.array([])\n",
    "\n",
    "    for i in range(j):\n",
    "            #Seleccionamos aleatoriamente 15 escuelas\n",
    "            escuelas_random= bd_escuelas.sample(n=15)[[\"escuela\"]]\n",
    "\n",
    "            escuelas_random = pd.merge(escuelas_random , bd_escuelas, how=\"left\", on=[\"escuela\"])\n",
    "\n",
    "            corr,_= spearmanr(escuelas_random.LSAT, escuelas_random.GPA)\n",
    "            corrs = np.append(corrs, corr)\n",
    "            \n",
    "    dist=np.append(dist, np.std(corrs))"
   ]
  },
  {
   "cell_type": "code",
   "execution_count": null,
   "id": "a1badb4b",
   "metadata": {},
   "outputs": [],
   "source": [
    "plt.plot(dist)"
   ]
  },
  {
   "cell_type": "markdown",
   "id": "cff8fe48",
   "metadata": {},
   "source": [
    "Podemos obeservar que a pesar de que  la gráfica es ruidosa, esta converge al error estándar obtenido anteriormente, lo cual nos permite confirmar que mientras mayor sea la N ( es decir mientras N tienda a $\\infty$ ) la estimación del error estándar converge al valor del error estándar real.\n",
    "En conclusión, entre mayor sea la N mejor."
   ]
  }
 ],
 "metadata": {
  "colab": {
   "name": "Ejecicio2_data_schools.ipynb",
   "provenance": []
  },
  "kernelspec": {
   "display_name": "Python 3 (ipykernel)",
   "language": "python",
   "name": "python3"
  },
  "language_info": {
   "codemirror_mode": {
    "name": "ipython",
    "version": 3
   },
   "file_extension": ".py",
   "mimetype": "text/x-python",
   "name": "python",
   "nbconvert_exporter": "python",
   "pygments_lexer": "ipython3",
   "version": "3.8.10"
  }
 },
 "nbformat": 4,
 "nbformat_minor": 5
}
